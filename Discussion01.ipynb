{
  "nbformat": 4,
  "nbformat_minor": 0,
  "metadata": {
    "colab": {
      "name": "Copy of Untitled8.ipynb",
      "provenance": [],
      "collapsed_sections": [],
      "include_colab_link": true
    },
    "kernelspec": {
      "name": "python3",
      "display_name": "Python 3"
    },
    "language_info": {
      "name": "python"
    }
  },
  "cells": [
    {
      "cell_type": "markdown",
      "metadata": {
        "id": "view-in-github",
        "colab_type": "text"
      },
      "source": [
        "<a href=\"https://colab.research.google.com/github/sundarjhu/AaduPaambe/blob/main/Discussion01.ipynb\" target=\"_parent\"><img src=\"https://colab.research.google.com/assets/colab-badge.svg\" alt=\"Open In Colab\"/></a>"
      ]
    },
    {
      "cell_type": "markdown",
      "source": [
        "## Data types"
      ],
      "metadata": {
        "id": "wiP099mON2TF"
      }
    },
    {
      "cell_type": "code",
      "source": [
        "# The divmod function returns the quotient and remainder from a division operation\n",
        "print(divmod(14.22, 2))\n",
        "\n",
        "x = divmod(14.22, 2)\n",
        "print(\"The output of the divmod function has type\", type(x))\n",
        "\n",
        "quotient, remainder = divmod(-8.5, 2)\n",
        "print(quotient, remainder)"
      ],
      "metadata": {
        "id": "DfzwvKQEJi8o",
        "outputId": "2bf32c8f-03d5-45c0-c3be-20646eb61dba",
        "colab": {
          "base_uri": "https://localhost:8080/"
        }
      },
      "execution_count": null,
      "outputs": [
        {
          "output_type": "stream",
          "name": "stdout",
          "text": [
            "(7.0, 0.22000000000000064)\n",
            "The output of the divmod function has type <class 'tuple'>\n",
            "-5.0 1.5\n"
          ]
        }
      ]
    },
    {
      "cell_type": "markdown",
      "source": [
        "## Homework 1: look up immutable and mutable data types.\n",
        ">### Tuples are immutable. Lists are mutable."
      ],
      "metadata": {
        "id": "xbWmscFjOB7N"
      }
    },
    {
      "cell_type": "markdown",
      "source": [
        "## Packing and unpacking tuples"
      ],
      "metadata": {
        "id": "_MrrRSNNOpdU"
      }
    },
    {
      "cell_type": "code",
      "source": [
        "x = divmod(14, 2) # the result is \"packed\" into the variable x\n",
        "print(x)\n",
        "print(x[0])\n",
        "quotient, remainder = divmod(14, 2) # we are \"unpacking\" the tuple returned by divmod()\n",
        "print(\"The quotient is\", quotient)\n",
        "quotient, _ = divmod(14, 2) # if you don't need to store the second value\n",
        "print(\"The quotient is\", quotient)\n",
        "_, remainder = divmod(14, 2) # if you don't need to store the first value\n",
        "print(\"The remainder is\", remainder)\n",
        "\n",
        "print(\"The remainder is\", divmod(14, 2)[1])"
      ],
      "metadata": {
        "id": "3Br22CKqOs1f",
        "outputId": "ec10630f-3c0e-436f-89cd-646cd8d09bb9",
        "colab": {
          "base_uri": "https://localhost:8080/"
        }
      },
      "execution_count": null,
      "outputs": [
        {
          "output_type": "stream",
          "name": "stdout",
          "text": [
            "(7, 0)\n",
            "7\n",
            "The quotient is 7\n",
            "The quotient is 7\n",
            "The remainder is 0\n",
            "The remainder is 0\n"
          ]
        }
      ]
    },
    {
      "cell_type": "markdown",
      "source": [
        "## Phanksans\n",
        ">### Not the best example of a function, but adequate for this introduction."
      ],
      "metadata": {
        "id": "SKVJv9FtOfZ2"
      }
    },
    {
      "cell_type": "code",
      "source": [
        "def even_or_odd():\n",
        "  Number = input(\"Enter an integer: \")\n",
        "  q, r = divmod(float(Number), 2)\n",
        "  if r == 0:\n",
        "    print(\"The number is even!\")\n",
        "  else:\n",
        "    print(\"The number is odd!\")"
      ],
      "metadata": {
        "id": "VDQro5K9Oesm"
      },
      "execution_count": null,
      "outputs": []
    },
    {
      "cell_type": "code",
      "source": [
        "# Try with a positive integer, then try a negative integer, and a float.\n",
        "# Obviously, the function needs some modifications.\n",
        "even_or_odd()"
      ],
      "metadata": {
        "id": "Ao1gMBAFRYtf",
        "outputId": "8defa73e-0b84-4fcf-d73d-273f2c187c95",
        "colab": {
          "base_uri": "https://localhost:8080/"
        }
      },
      "execution_count": null,
      "outputs": [
        {
          "output_type": "stream",
          "name": "stdout",
          "text": [
            "Enter an integer: -12.5\n",
            "The number is odd!\n"
          ]
        }
      ]
    },
    {
      "cell_type": "markdown",
      "source": [
        "## Phanksans: positional (compulsory) vs keyword (optional) arguments\n",
        ">### positional arguments MUST precede keyword arguments"
      ],
      "metadata": {
        "id": "em57pW7USXp2"
      }
    },
    {
      "cell_type": "code",
      "source": [
        "# Example of a positional (compulsory) argument\n",
        "def even_or_odd1(Number):\n",
        "  q, r = divmod(float(Number), 2)\n",
        "  if r == 0:\n",
        "    print(\"The number is even!\")\n",
        "  elif r == 1: # Python 3.10 has a switch case statement instead\n",
        "    print(\"The number is odd!\")\n",
        "  else:\n",
        "    print(\"The number is neither even nor odd. Try again with an integer!\")"
      ],
      "metadata": {
        "id": "ykJ4N9kvRgqR"
      },
      "execution_count": null,
      "outputs": []
    },
    {
      "cell_type": "code",
      "source": [
        "even_or_odd1(2)\n",
        "\n",
        "even_or_odd1()"
      ],
      "metadata": {
        "id": "VzA89NuBSdZK",
        "outputId": "5a626010-cb1b-45af-96fe-a2405b745b91",
        "colab": {
          "base_uri": "https://localhost:8080/",
          "height": 219
        }
      },
      "execution_count": null,
      "outputs": [
        {
          "output_type": "stream",
          "name": "stdout",
          "text": [
            "The number is even!\n"
          ]
        },
        {
          "output_type": "error",
          "ename": "TypeError",
          "evalue": "ignored",
          "traceback": [
            "\u001b[0;31m---------------------------------------------------------------------------\u001b[0m",
            "\u001b[0;31mTypeError\u001b[0m                                 Traceback (most recent call last)",
            "\u001b[0;32m<ipython-input-127-58a1b6d5d059>\u001b[0m in \u001b[0;36m<module>\u001b[0;34m()\u001b[0m\n\u001b[1;32m      1\u001b[0m \u001b[0meven_or_odd1\u001b[0m\u001b[0;34m(\u001b[0m\u001b[0;36m2\u001b[0m\u001b[0;34m)\u001b[0m\u001b[0;34m\u001b[0m\u001b[0;34m\u001b[0m\u001b[0m\n\u001b[1;32m      2\u001b[0m \u001b[0;34m\u001b[0m\u001b[0m\n\u001b[0;32m----> 3\u001b[0;31m \u001b[0meven_or_odd1\u001b[0m\u001b[0;34m(\u001b[0m\u001b[0;34m)\u001b[0m\u001b[0;34m\u001b[0m\u001b[0;34m\u001b[0m\u001b[0m\n\u001b[0m",
            "\u001b[0;31mTypeError\u001b[0m: even_or_odd1() missing 1 required positional argument: 'Number'"
          ]
        }
      ]
    },
    {
      "cell_type": "code",
      "source": [
        "# Example of a keyword argument. In this case, since the default value is provided, it is optional\n",
        "def even_or_odd2(Number = None):\n",
        "  if Number is None:\n",
        "    Number = input(\"No input provided. Enter an integer: \")\n",
        "  q, r = divmod(float(Number), 2)\n",
        "  if r == 0:\n",
        "    print(\"The number is even!\")\n",
        "  elif r == 1: # Python 3.10 has a switch case statement instead\n",
        "    print(\"The number is odd!\")\n",
        "  else:\n",
        "    print(\"The number is neither even nor odd. Try again with an integer!\")"
      ],
      "metadata": {
        "id": "Pd8u_6QRlZSa"
      },
      "execution_count": null,
      "outputs": []
    },
    {
      "cell_type": "code",
      "source": [
        "even_or_odd2(2)\n",
        "\n",
        "even_or_odd2()"
      ],
      "metadata": {
        "id": "bzKn2vTulbKK",
        "outputId": "dfe10c1c-ac0c-41fc-b748-90249b1b275f",
        "colab": {
          "base_uri": "https://localhost:8080/"
        }
      },
      "execution_count": null,
      "outputs": [
        {
          "output_type": "stream",
          "name": "stdout",
          "text": [
            "The number is even!\n",
            "No input provided. Enter an integer: -5.5\n",
            "The number is neither even nor odd. Try again with an integer!\n"
          ]
        }
      ]
    },
    {
      "cell_type": "markdown",
      "source": [
        "## Error handling"
      ],
      "metadata": {
        "id": "Q305jx-ZTIvj"
      }
    },
    {
      "cell_type": "code",
      "source": [
        "def even_or_odd(Number = None):\n",
        "  if isinstance(Number, type(None)): # use the isinstance() function\n",
        "    Number = input(\"No input provided. Enter an integer: \")\n",
        "  q, r = divmod(float(Number), 2)\n",
        "  if r == 0:\n",
        "    print(\"The number is even!\")\n",
        "  elif r == 1: # Python 3.10 has a switch case statement instead\n",
        "    print(\"The number is odd!\")\n",
        "  else:\n",
        "    raise ValueError(\"The number is neither even nor odd. Try again with an integer!\")"
      ],
      "metadata": {
        "id": "qiiP6jeFJFWZ"
      },
      "execution_count": null,
      "outputs": []
    },
    {
      "cell_type": "code",
      "source": [
        "even_or_odd(-2.2)"
      ],
      "metadata": {
        "id": "O85n9kyhKFJ_",
        "outputId": "7f63a3f9-9686-4ed0-e978-e5cffedb910b",
        "colab": {
          "base_uri": "https://localhost:8080/",
          "height": 254
        }
      },
      "execution_count": null,
      "outputs": [
        {
          "output_type": "error",
          "ename": "ValueError",
          "evalue": "ignored",
          "traceback": [
            "\u001b[0;31m---------------------------------------------------------------------------\u001b[0m",
            "\u001b[0;31mValueError\u001b[0m                                Traceback (most recent call last)",
            "\u001b[0;32m<ipython-input-133-d9e4b3291d67>\u001b[0m in \u001b[0;36m<module>\u001b[0;34m()\u001b[0m\n\u001b[0;32m----> 1\u001b[0;31m \u001b[0meven_or_odd\u001b[0m\u001b[0;34m(\u001b[0m\u001b[0;34m-\u001b[0m\u001b[0;36m2.2\u001b[0m\u001b[0;34m)\u001b[0m\u001b[0;34m\u001b[0m\u001b[0;34m\u001b[0m\u001b[0m\n\u001b[0m",
            "\u001b[0;32m<ipython-input-131-1ef13f12b0c2>\u001b[0m in \u001b[0;36meven_or_odd\u001b[0;34m(Number)\u001b[0m\n\u001b[1;32m      8\u001b[0m     \u001b[0mprint\u001b[0m\u001b[0;34m(\u001b[0m\u001b[0;34m\"The number is odd!\"\u001b[0m\u001b[0;34m)\u001b[0m\u001b[0;34m\u001b[0m\u001b[0;34m\u001b[0m\u001b[0m\n\u001b[1;32m      9\u001b[0m   \u001b[0;32melse\u001b[0m\u001b[0;34m:\u001b[0m\u001b[0;34m\u001b[0m\u001b[0;34m\u001b[0m\u001b[0m\n\u001b[0;32m---> 10\u001b[0;31m     \u001b[0;32mraise\u001b[0m \u001b[0mValueError\u001b[0m\u001b[0;34m(\u001b[0m\u001b[0;34m\"The number is neither even nor odd. Try again with an integer!\"\u001b[0m\u001b[0;34m)\u001b[0m\u001b[0;34m\u001b[0m\u001b[0;34m\u001b[0m\u001b[0m\n\u001b[0m",
            "\u001b[0;31mValueError\u001b[0m: The number is neither even nor odd. Try again with an integer!"
          ]
        }
      ]
    },
    {
      "cell_type": "code",
      "source": [
        "# Because 90% of people are illiterate\n",
        "even_or_odd('To')"
      ],
      "metadata": {
        "id": "izrWob7omSQT",
        "outputId": "a9ce9dd4-1cc8-44d1-f61c-e46f958467f3",
        "colab": {
          "base_uri": "https://localhost:8080/",
          "height": 306
        }
      },
      "execution_count": null,
      "outputs": [
        {
          "output_type": "error",
          "ename": "ValueError",
          "evalue": "ignored",
          "traceback": [
            "\u001b[0;31m---------------------------------------------------------------------------\u001b[0m",
            "\u001b[0;31mValueError\u001b[0m                                Traceback (most recent call last)",
            "\u001b[0;32m<ipython-input-134-e0efe849da79>\u001b[0m in \u001b[0;36m<module>\u001b[0;34m()\u001b[0m\n\u001b[1;32m      1\u001b[0m \u001b[0;31m# Because 90% of people are illiterate\u001b[0m\u001b[0;34m\u001b[0m\u001b[0;34m\u001b[0m\u001b[0;34m\u001b[0m\u001b[0m\n\u001b[0;32m----> 2\u001b[0;31m \u001b[0meven_or_odd\u001b[0m\u001b[0;34m(\u001b[0m\u001b[0;34m'To'\u001b[0m\u001b[0;34m)\u001b[0m\u001b[0;34m\u001b[0m\u001b[0;34m\u001b[0m\u001b[0m\n\u001b[0m",
            "\u001b[0;32m<ipython-input-131-1ef13f12b0c2>\u001b[0m in \u001b[0;36meven_or_odd\u001b[0;34m(Number)\u001b[0m\n\u001b[1;32m      2\u001b[0m   \u001b[0;32mif\u001b[0m \u001b[0misinstance\u001b[0m\u001b[0;34m(\u001b[0m\u001b[0mNumber\u001b[0m\u001b[0;34m,\u001b[0m \u001b[0mtype\u001b[0m\u001b[0;34m(\u001b[0m\u001b[0;32mNone\u001b[0m\u001b[0;34m)\u001b[0m\u001b[0;34m)\u001b[0m\u001b[0;34m:\u001b[0m \u001b[0;31m# use the isinstance() function\u001b[0m\u001b[0;34m\u001b[0m\u001b[0;34m\u001b[0m\u001b[0m\n\u001b[1;32m      3\u001b[0m     \u001b[0mNumber\u001b[0m \u001b[0;34m=\u001b[0m \u001b[0minput\u001b[0m\u001b[0;34m(\u001b[0m\u001b[0;34m\"No input provided. Enter an integer: \"\u001b[0m\u001b[0;34m)\u001b[0m\u001b[0;34m\u001b[0m\u001b[0;34m\u001b[0m\u001b[0m\n\u001b[0;32m----> 4\u001b[0;31m   \u001b[0mq\u001b[0m\u001b[0;34m,\u001b[0m \u001b[0mr\u001b[0m \u001b[0;34m=\u001b[0m \u001b[0mdivmod\u001b[0m\u001b[0;34m(\u001b[0m\u001b[0mfloat\u001b[0m\u001b[0;34m(\u001b[0m\u001b[0mNumber\u001b[0m\u001b[0;34m)\u001b[0m\u001b[0;34m,\u001b[0m \u001b[0;36m2\u001b[0m\u001b[0;34m)\u001b[0m\u001b[0;34m\u001b[0m\u001b[0;34m\u001b[0m\u001b[0m\n\u001b[0m\u001b[1;32m      5\u001b[0m   \u001b[0;32mif\u001b[0m \u001b[0mr\u001b[0m \u001b[0;34m==\u001b[0m \u001b[0;36m0\u001b[0m\u001b[0;34m:\u001b[0m\u001b[0;34m\u001b[0m\u001b[0;34m\u001b[0m\u001b[0m\n\u001b[1;32m      6\u001b[0m     \u001b[0mprint\u001b[0m\u001b[0;34m(\u001b[0m\u001b[0;34m\"The number is even!\"\u001b[0m\u001b[0;34m)\u001b[0m\u001b[0;34m\u001b[0m\u001b[0;34m\u001b[0m\u001b[0m\n",
            "\u001b[0;31mValueError\u001b[0m: could not convert string to float: 'To'"
          ]
        }
      ]
    },
    {
      "cell_type": "markdown",
      "source": [
        "## Homework 2: look up warnings vs errors"
      ],
      "metadata": {
        "id": "vYflLhZ9T2hd"
      }
    },
    {
      "cell_type": "markdown",
      "source": [
        "## Handling exceptions: try/except"
      ],
      "metadata": {
        "id": "hHuYvYMBUEzp"
      }
    },
    {
      "cell_type": "code",
      "source": [
        "def even_or_odd(Number = None):\n",
        "  if isinstance(Number, type(None)): # use the isinstance() function\n",
        "    Number = input(\"No input provided. Enter an integer: \")\n",
        "  try:\n",
        "    q, r = divmod(float(Number), 2)\n",
        "    if r == 0:\n",
        "      print(\"The number is even!\")\n",
        "    elif r == 1: # Python 3.10 has a switch case statement instead\n",
        "      print(\"The number is odd!\")\n",
        "    else:\n",
        "      raise ValueError(\"The number is neither even nor odd. Try again with an integer!\")\n",
        "  except:\n",
        "    raise ValueError(\"Input must be a float or int!\")"
      ],
      "metadata": {
        "id": "Y3yKzTPJULe0"
      },
      "execution_count": null,
      "outputs": []
    },
    {
      "cell_type": "code",
      "source": [
        "even_or_odd('To')"
      ],
      "metadata": {
        "id": "Xurt2KziUVPj",
        "outputId": "6849ab1e-ea37-4bba-f4d7-cf57ebbc463e",
        "colab": {
          "base_uri": "https://localhost:8080/",
          "height": 400
        }
      },
      "execution_count": null,
      "outputs": [
        {
          "output_type": "error",
          "ename": "ValueError",
          "evalue": "ignored",
          "traceback": [
            "\u001b[0;31m---------------------------------------------------------------------------\u001b[0m",
            "\u001b[0;31mValueError\u001b[0m                                Traceback (most recent call last)",
            "\u001b[0;32m<ipython-input-135-e744a4a59475>\u001b[0m in \u001b[0;36meven_or_odd\u001b[0;34m(Number)\u001b[0m\n\u001b[1;32m      4\u001b[0m   \u001b[0;32mtry\u001b[0m\u001b[0;34m:\u001b[0m\u001b[0;34m\u001b[0m\u001b[0;34m\u001b[0m\u001b[0m\n\u001b[0;32m----> 5\u001b[0;31m     \u001b[0mq\u001b[0m\u001b[0;34m,\u001b[0m \u001b[0mr\u001b[0m \u001b[0;34m=\u001b[0m \u001b[0mdivmod\u001b[0m\u001b[0;34m(\u001b[0m\u001b[0mfloat\u001b[0m\u001b[0;34m(\u001b[0m\u001b[0mNumber\u001b[0m\u001b[0;34m)\u001b[0m\u001b[0;34m,\u001b[0m \u001b[0;36m2\u001b[0m\u001b[0;34m)\u001b[0m\u001b[0;34m\u001b[0m\u001b[0;34m\u001b[0m\u001b[0m\n\u001b[0m\u001b[1;32m      6\u001b[0m     \u001b[0;32mif\u001b[0m \u001b[0mr\u001b[0m \u001b[0;34m==\u001b[0m \u001b[0;36m0\u001b[0m\u001b[0;34m:\u001b[0m\u001b[0;34m\u001b[0m\u001b[0;34m\u001b[0m\u001b[0m\n",
            "\u001b[0;31mValueError\u001b[0m: could not convert string to float: 'To'",
            "\nDuring handling of the above exception, another exception occurred:\n",
            "\u001b[0;31mValueError\u001b[0m                                Traceback (most recent call last)",
            "\u001b[0;32m<ipython-input-136-78cc828ed0f4>\u001b[0m in \u001b[0;36m<module>\u001b[0;34m()\u001b[0m\n\u001b[0;32m----> 1\u001b[0;31m \u001b[0meven_or_odd\u001b[0m\u001b[0;34m(\u001b[0m\u001b[0;34m'To'\u001b[0m\u001b[0;34m)\u001b[0m\u001b[0;34m\u001b[0m\u001b[0;34m\u001b[0m\u001b[0m\n\u001b[0m",
            "\u001b[0;32m<ipython-input-135-e744a4a59475>\u001b[0m in \u001b[0;36meven_or_odd\u001b[0;34m(Number)\u001b[0m\n\u001b[1;32m     11\u001b[0m       \u001b[0;32mraise\u001b[0m \u001b[0mValueError\u001b[0m\u001b[0;34m(\u001b[0m\u001b[0;34m\"The number is neither even nor odd. Try again with an integer!\"\u001b[0m\u001b[0;34m)\u001b[0m\u001b[0;34m\u001b[0m\u001b[0;34m\u001b[0m\u001b[0m\n\u001b[1;32m     12\u001b[0m   \u001b[0;32mexcept\u001b[0m\u001b[0;34m:\u001b[0m\u001b[0;34m\u001b[0m\u001b[0;34m\u001b[0m\u001b[0m\n\u001b[0;32m---> 13\u001b[0;31m     \u001b[0;32mraise\u001b[0m \u001b[0mValueError\u001b[0m\u001b[0;34m(\u001b[0m\u001b[0;34m\"Input must be a float or int!\"\u001b[0m\u001b[0;34m)\u001b[0m\u001b[0;34m\u001b[0m\u001b[0;34m\u001b[0m\u001b[0m\n\u001b[0m",
            "\u001b[0;31mValueError\u001b[0m: Input must be a float or int!"
          ]
        }
      ]
    },
    {
      "cell_type": "markdown",
      "source": [
        "## Classes: attributes and methods; docstrings"
      ],
      "metadata": {
        "id": "QNwmjBBVmhS6"
      }
    },
    {
      "cell_type": "code",
      "source": [
        "class Person():\n",
        "  \"\"\"\n",
        "  Instantiates a Person class with some attributes\n",
        "  \"\"\"\n",
        "\n",
        "  def __init__(self, Name = None, Age = None, Weight = None, Height = None):\n",
        "    \"\"\"\n",
        "    __init__ method for the Person class\n",
        "    Parameters\n",
        "    ----------\n",
        "    Name: str\n",
        "      Name of person. Defaults to None.\n",
        "    Age: int\n",
        "      Age of person in years. Defaults to None.\n",
        "    Weight: float\n",
        "      Weight of person in kg. Defaults to None.\n",
        "    Height: float\n",
        "      Height of person in m. Defaults to None.\n",
        "\n",
        "    Returns\n",
        "    -------\n",
        "    \"\"\"\n",
        "    self.name = Name\n",
        "    self.age = Age\n",
        "    self.weight = Weight\n",
        "    self.height = Height\n",
        "  \n",
        "  def bmi(self):\n",
        "    \"\"\"\n",
        "    Set the body mass index attribute for an instance of the Person class.\n",
        "    The BMI is set according to bmi = weight / height**2\n",
        "    Parameters\n",
        "    ----------\n",
        "    self: class\n",
        "      an instance of the Person class\n",
        "    Returns\n",
        "    -------\n",
        "    self.bmi: float\n",
        "      The body mass index in kg/m**2 if self.weight and self.height are not None.\n",
        "      Defaults to None.\n",
        "    \"\"\"\n",
        "    if (self.weight is not None) and (self.height is not None):\n",
        "      return self.weight / self.height**2\n",
        "    else:\n",
        "      return None"
      ],
      "metadata": {
        "id": "VAKE7P0S0BIa"
      },
      "execution_count": null,
      "outputs": []
    },
    {
      "cell_type": "code",
      "source": [
        "pHuman = Person('Babu', Age = 42, Weight = 80.2182, Height = 1.6025)"
      ],
      "metadata": {
        "id": "FmInVFpX2iNr"
      },
      "execution_count": null,
      "outputs": []
    },
    {
      "cell_type": "code",
      "source": [
        "pHuma2 = Person('Kowtam', Age = 48, 102.62, Height = 1.761)"
      ],
      "metadata": {
        "id": "_PckCV3gDIu4",
        "outputId": "bc02c509-aaa7-4756-f1ae-6a526ca75e4a",
        "colab": {
          "base_uri": "https://localhost:8080/",
          "height": 132
        }
      },
      "execution_count": null,
      "outputs": [
        {
          "output_type": "error",
          "ename": "SyntaxError",
          "evalue": "ignored",
          "traceback": [
            "\u001b[0;36m  File \u001b[0;32m\"<ipython-input-139-635192f22953>\"\u001b[0;36m, line \u001b[0;32m1\u001b[0m\n\u001b[0;31m    pHuma2 = Person('Kowtam', Age = 48, 102.62, Height = 1.761)\u001b[0m\n\u001b[0m                                       ^\u001b[0m\n\u001b[0;31mSyntaxError\u001b[0m\u001b[0;31m:\u001b[0m positional argument follows keyword argument\n"
          ]
        }
      ]
    },
    {
      "cell_type": "code",
      "source": [
        "txt1 = \"{}'s weight is {} kg.\"\n",
        "txt2 = \"{}'s weight is {:.2f} kg.\"\n",
        "\n",
        "print(txt1.format(pHuman.name, pHuman.weight))\n",
        "\n",
        "print(txt2.format(pHuman.name, pHuman.weight))\n",
        "\n",
        "txt3 = \"{}'s BMI is {} kg/m**2.\"\n",
        "txt4 = \"{}'s BMI is {:.2f} kg/m**2.\"\n",
        "\n",
        "print(txt3.format(pHuman.name, pHuman.bmi()))\n",
        "print(txt4.format(pHuman.name, pHuman.bmi()))\n",
        "\n",
        "txt5 = \"The perpetrator weighed {1} kg and had a BMI of {2} kg/m**2. This means that the murderer is {0}!!\"\n",
        "print(txt5.format(pHuman.name, pHuman.weight, pHuman.bmi))\n",
        "txt6 = \"The perpetrator weighed {1:.1f} kg and had a BMI of {2:.2f} kg/m**2. This means that the murderer is {0}!!\"\n",
        "print(txt6.format(pHuman.name, pHuman.weight, pHuman.bmi()))\n",
        "\n",
        "txt7 = \"His name is {nAmE}, he is {AGE} years old.\"\n",
        "print(txt7.format(nAmE = pHuman.name, AGE = pHuman.age))"
      ],
      "metadata": {
        "id": "BX1ccTse382_",
        "outputId": "71dd3747-7d70-47b2-9531-70cf9686f0ee",
        "colab": {
          "base_uri": "https://localhost:8080/"
        }
      },
      "execution_count": null,
      "outputs": [
        {
          "output_type": "stream",
          "name": "stdout",
          "text": [
            "Babu's weight is 80.2182 kg.\n",
            "Babu's weight is 80.22 kg.\n",
            "Babu's BMI is 31.23754079648365 kg/m**2.\n",
            "Babu's BMI is 31.24 kg/m**2.\n",
            "The perpetrator weighed 80.2182 kg and had a BMI of <bound method Person.bmi of <__main__.Person object at 0x7f6cdedaa790>> kg/m**2. This means that the murderer is Babu!!\n",
            "The perpetrator weighed 80.2 kg and had a BMI of 31.24 kg/m**2. This means that the murderer is Babu!!\n",
            "His name is Babu, he is 42 years old.\n"
          ]
        }
      ]
    },
    {
      "cell_type": "code",
      "source": [
        "help(Person)"
      ],
      "metadata": {
        "id": "zB0P_mx_Emzz",
        "outputId": "90b78a59-34be-48de-b6a0-3fd4f3922d5c",
        "colab": {
          "base_uri": "https://localhost:8080/"
        }
      },
      "execution_count": null,
      "outputs": [
        {
          "output_type": "stream",
          "name": "stdout",
          "text": [
            "Help on class Person in module __main__:\n",
            "\n",
            "class Person(builtins.object)\n",
            " |  Person(Name=None, Age=None, Weight=None, Height=None)\n",
            " |  \n",
            " |  Instantiates a Person class with some attributes\n",
            " |  \n",
            " |  Methods defined here:\n",
            " |  \n",
            " |  __init__(self, Name=None, Age=None, Weight=None, Height=None)\n",
            " |      __init__ method for the Person class\n",
            " |      Parameters\n",
            " |      ----------\n",
            " |      Name: str\n",
            " |        Name of person. Defaults to None.\n",
            " |      Age: int\n",
            " |        Age of person in years. Defaults to None.\n",
            " |      Weight: float\n",
            " |        Weight of person in kg. Defaults to None.\n",
            " |      Height: float\n",
            " |        Height of person in m. Defaults to None.\n",
            " |      \n",
            " |      Returns\n",
            " |      -------\n",
            " |  \n",
            " |  bmi(self)\n",
            " |      Set the body mass index attribute for an instance of the Person class.\n",
            " |      The BMI is set according to bmi = weight / height**2\n",
            " |      Parameters\n",
            " |      ----------\n",
            " |      self: class\n",
            " |        an instance of the Person class\n",
            " |      Returns\n",
            " |      -------\n",
            " |      self.bmi: float\n",
            " |        The body mass index in kg/m**2 if self.weight and self.height are not None.\n",
            " |        Defaults to None.\n",
            " |  \n",
            " |  ----------------------------------------------------------------------\n",
            " |  Data descriptors defined here:\n",
            " |  \n",
            " |  __dict__\n",
            " |      dictionary for instance variables (if defined)\n",
            " |  \n",
            " |  __weakref__\n",
            " |      list of weak references to the object (if defined)\n",
            "\n"
          ]
        }
      ]
    },
    {
      "cell_type": "code",
      "source": [
        "dir(Person)"
      ],
      "metadata": {
        "id": "olSa8-DBHxno",
        "outputId": "669f4fe4-1f4e-4c91-83ed-cb66e2ff16c2",
        "colab": {
          "base_uri": "https://localhost:8080/"
        }
      },
      "execution_count": null,
      "outputs": [
        {
          "output_type": "execute_result",
          "data": {
            "text/plain": [
              "['__class__',\n",
              " '__delattr__',\n",
              " '__dict__',\n",
              " '__dir__',\n",
              " '__doc__',\n",
              " '__eq__',\n",
              " '__format__',\n",
              " '__ge__',\n",
              " '__getattribute__',\n",
              " '__gt__',\n",
              " '__hash__',\n",
              " '__init__',\n",
              " '__init_subclass__',\n",
              " '__le__',\n",
              " '__lt__',\n",
              " '__module__',\n",
              " '__ne__',\n",
              " '__new__',\n",
              " '__reduce__',\n",
              " '__reduce_ex__',\n",
              " '__repr__',\n",
              " '__setattr__',\n",
              " '__sizeof__',\n",
              " '__str__',\n",
              " '__subclasshook__',\n",
              " '__weakref__',\n",
              " 'bmi']"
            ]
          },
          "metadata": {},
          "execution_count": 142
        }
      ]
    },
    {
      "cell_type": "code",
      "source": [
        "help(Person.bmi)"
      ],
      "metadata": {
        "id": "wAUPgH8PHzzE",
        "outputId": "d04a3d0d-6302-4ebe-c1bb-e8047a75843d",
        "colab": {
          "base_uri": "https://localhost:8080/"
        }
      },
      "execution_count": null,
      "outputs": [
        {
          "output_type": "stream",
          "name": "stdout",
          "text": [
            "Help on function bmi in module __main__:\n",
            "\n",
            "bmi(self)\n",
            "    Set the body mass index attribute for an instance of the Person class.\n",
            "    The BMI is set according to bmi = weight / height**2\n",
            "    Parameters\n",
            "    ----------\n",
            "    self: class\n",
            "      an instance of the Person class\n",
            "    Returns\n",
            "    -------\n",
            "    self.bmi: float\n",
            "      The body mass index in kg/m**2 if self.weight and self.height are not None.\n",
            "      Defaults to None.\n",
            "\n"
          ]
        }
      ]
    },
    {
      "cell_type": "code",
      "source": [
        ""
      ],
      "metadata": {
        "id": "BH2MpIL8ms6Y"
      },
      "execution_count": null,
      "outputs": []
    }
  ]
}