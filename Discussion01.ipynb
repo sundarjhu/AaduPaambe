{
  "nbformat": 4,
  "nbformat_minor": 0,
  "metadata": {
    "colab": {
      "name": "Copy of Untitled8.ipynb",
      "provenance": [],
      "collapsed_sections": [],
      "include_colab_link": true
    },
    "kernelspec": {
      "name": "python3",
      "display_name": "Python 3"
    },
    "language_info": {
      "name": "python"
    }
  },
  "cells": [
    {
      "cell_type": "markdown",
      "metadata": {
        "id": "view-in-github",
        "colab_type": "text"
      },
      "source": [
        "<a href=\"https://colab.research.google.com/github/sundarjhu/AaduPaambe/blob/main/Discussion01.ipynb\" target=\"_parent\"><img src=\"https://colab.research.google.com/assets/colab-badge.svg\" alt=\"Open In Colab\"/></a>"
      ]
    },
    {
      "cell_type": "markdown",
      "source": [
        "## For a very exhaustive beginner tutorial: [Corey Schafer](https://www.youtube.com/watch?v=YYXdXT2l-Gg&list=PL-osiE80TeTskrapNbzXhwoFUiLCjGgY7)"
      ],
      "metadata": {
        "id": "-67r1Z0Nx5p8"
      }
    },
    {
      "cell_type": "markdown",
      "source": [
        "## Data types"
      ],
      "metadata": {
        "id": "wiP099mON2TF"
      }
    },
    {
      "cell_type": "code",
      "source": [
        "# The divmod function returns the quotient and remainder from a division operation\n",
        "print(divmod(14.22, 2)) # this prints a tuple\n",
        "\n",
        "x = divmod(14.22, 2)\n",
        "print(\"The output of the divmod function has type\", type(x)) # note the type specification\n",
        "\n",
        "quotient, remainder = divmod(-8.5, 2)\n",
        "print(quotient, remainder)"
      ],
      "metadata": {
        "id": "DfzwvKQEJi8o",
        "outputId": "4cf6775d-6a6e-4d22-84fc-18ea035400e1",
        "colab": {
          "base_uri": "https://localhost:8080/"
        }
      },
      "execution_count": 1,
      "outputs": [
        {
          "output_type": "stream",
          "name": "stdout",
          "text": [
            "(7.0, 0.22000000000000064)\n",
            "The output of the divmod function has type <class 'tuple'>\n",
            "-5.0 1.5\n"
          ]
        }
      ]
    },
    {
      "cell_type": "markdown",
      "source": [
        "## Homework 1: look up immutable and mutable data types.\n",
        ">### Tuples are immutable. Lists are mutable."
      ],
      "metadata": {
        "id": "xbWmscFjOB7N"
      }
    },
    {
      "cell_type": "markdown",
      "source": [
        "## Packing and unpacking tuples"
      ],
      "metadata": {
        "id": "_MrrRSNNOpdU"
      }
    },
    {
      "cell_type": "code",
      "source": [
        "x = divmod(14, 2) # the result is \"packed\" into the variable x\n",
        "print(x)\n",
        "\n",
        "print(x[0]) # accessing one or more elements from the array/tuple/list is called \"slicing\". More on this later!\n",
        "\n",
        "quotient, remainder = divmod(14, 2) # we are \"unpacking\" the tuple returned by divmod()\n",
        "print(\"The quotient is\", quotient)\n",
        "\n",
        "quotient, _ = divmod(14, 2) # if you don't need to store the second value\n",
        "print(\"The quotient is\", quotient)\n",
        "\n",
        "_, remainder = divmod(14, 2) # if you don't need to store the first value\n",
        "print(\"The remainder is\", remainder)\n",
        "\n",
        "print(\"The remainder is\", divmod(14, 2)[1]) # if you're lazy"
      ],
      "metadata": {
        "id": "3Br22CKqOs1f",
        "outputId": "8b603fcc-dcf3-4a24-aff7-752f0c4ade28",
        "colab": {
          "base_uri": "https://localhost:8080/"
        }
      },
      "execution_count": 2,
      "outputs": [
        {
          "output_type": "stream",
          "name": "stdout",
          "text": [
            "(7, 0)\n",
            "7\n",
            "The quotient is 7\n",
            "The quotient is 7\n",
            "The remainder is 0\n",
            "The remainder is 0\n"
          ]
        }
      ]
    },
    {
      "cell_type": "markdown",
      "source": [
        "## Phanksans\n",
        ">### Not the best example of a function, but adequate for this introduction."
      ],
      "metadata": {
        "id": "SKVJv9FtOfZ2"
      }
    },
    {
      "cell_type": "code",
      "source": [
        "def even_or_odd():\n",
        "  Number = input(\"Enter an integer: \")\n",
        "  q, r = divmod(float(Number), 2)\n",
        "  if r == 0:\n",
        "    print(\"The number is even!\")\n",
        "  else:\n",
        "    print(\"The number is odd!\") # Only true if Number was an integer!"
      ],
      "metadata": {
        "id": "VDQro5K9Oesm"
      },
      "execution_count": 3,
      "outputs": []
    },
    {
      "cell_type": "code",
      "source": [
        "# Try with a positive integer, then try a negative integer, and a float.\n",
        "# Obviously, the function needs some modifications.\n",
        "even_or_odd()"
      ],
      "metadata": {
        "id": "Ao1gMBAFRYtf",
        "outputId": "949d0687-8a4d-47b8-d1d4-fd6c146970b6",
        "colab": {
          "base_uri": "https://localhost:8080/"
        }
      },
      "execution_count": 6,
      "outputs": [
        {
          "output_type": "stream",
          "name": "stdout",
          "text": [
            "Enter an integer: 1.22\n",
            "The number is odd!\n"
          ]
        }
      ]
    },
    {
      "cell_type": "markdown",
      "source": [
        "## Phanksans: positional (compulsory) vs keyword (optional) arguments\n",
        ">### positional arguments MUST precede keyword arguments"
      ],
      "metadata": {
        "id": "em57pW7USXp2"
      }
    },
    {
      "cell_type": "code",
      "source": [
        "# Example of a positional (compulsory) argument\n",
        "def even_or_odd1(Number):\n",
        "  q, r = divmod(float(Number), 2)\n",
        "  if r == 0:\n",
        "    print(\"The number is even!\")\n",
        "  elif r == 1: # Python 3.10 has a switch case statement instead\n",
        "    print(\"The number is odd!\")\n",
        "  else:\n",
        "    print(\"The number is neither even nor odd. Try again with an integer!\")"
      ],
      "metadata": {
        "id": "ykJ4N9kvRgqR"
      },
      "execution_count": 7,
      "outputs": []
    },
    {
      "cell_type": "code",
      "source": [
        "even_or_odd1(2.5)\n",
        "\n",
        "even_or_odd1()"
      ],
      "metadata": {
        "id": "VzA89NuBSdZK",
        "outputId": "5b7138f6-7c36-4726-9721-1eaa9d4fac9c",
        "colab": {
          "base_uri": "https://localhost:8080/",
          "height": 219
        }
      },
      "execution_count": 8,
      "outputs": [
        {
          "output_type": "stream",
          "name": "stdout",
          "text": [
            "The number is neither even nor odd. Try again with an integer!\n"
          ]
        },
        {
          "output_type": "error",
          "ename": "TypeError",
          "evalue": "ignored",
          "traceback": [
            "\u001b[0;31m---------------------------------------------------------------------------\u001b[0m",
            "\u001b[0;31mTypeError\u001b[0m                                 Traceback (most recent call last)",
            "\u001b[0;32m<ipython-input-8-078128c8b22b>\u001b[0m in \u001b[0;36m<module>\u001b[0;34m()\u001b[0m\n\u001b[1;32m      1\u001b[0m \u001b[0meven_or_odd1\u001b[0m\u001b[0;34m(\u001b[0m\u001b[0;36m2.5\u001b[0m\u001b[0;34m)\u001b[0m\u001b[0;34m\u001b[0m\u001b[0;34m\u001b[0m\u001b[0m\n\u001b[1;32m      2\u001b[0m \u001b[0;34m\u001b[0m\u001b[0m\n\u001b[0;32m----> 3\u001b[0;31m \u001b[0meven_or_odd1\u001b[0m\u001b[0;34m(\u001b[0m\u001b[0;34m)\u001b[0m\u001b[0;34m\u001b[0m\u001b[0;34m\u001b[0m\u001b[0m\n\u001b[0m",
            "\u001b[0;31mTypeError\u001b[0m: even_or_odd1() missing 1 required positional argument: 'Number'"
          ]
        }
      ]
    },
    {
      "cell_type": "code",
      "source": [
        "# Example of a keyword argument. In this case, since the default value is provided, it is optional\n",
        "def even_or_odd2(Number = None):\n",
        "  if Number is None:\n",
        "    Number = input(\"No input provided. Enter an integer: \")\n",
        "  q, r = divmod(float(Number), 2)\n",
        "  if r == 0:\n",
        "    print(\"The number is even!\")\n",
        "  elif r == 1: # Python 3.10 has a switch case statement instead\n",
        "    print(\"The number is odd!\")\n",
        "  else:\n",
        "    print(\"The number is neither even nor odd. Try again with an integer!\") # Let's make this more serious and throw an error!"
      ],
      "metadata": {
        "id": "Pd8u_6QRlZSa"
      },
      "execution_count": 9,
      "outputs": []
    },
    {
      "cell_type": "code",
      "source": [
        "even_or_odd2(2)\n",
        "\n",
        "even_or_odd2()"
      ],
      "metadata": {
        "id": "bzKn2vTulbKK",
        "outputId": "a29a553b-86a0-45e5-a27f-14b70153da83",
        "colab": {
          "base_uri": "https://localhost:8080/"
        }
      },
      "execution_count": 10,
      "outputs": [
        {
          "output_type": "stream",
          "name": "stdout",
          "text": [
            "The number is even!\n",
            "No input provided. Enter an integer: 1.36\n",
            "The number is neither even nor odd. Try again with an integer!\n"
          ]
        }
      ]
    },
    {
      "cell_type": "markdown",
      "source": [
        "## The `if/elif/else` block and error handling"
      ],
      "metadata": {
        "id": "Q305jx-ZTIvj"
      }
    },
    {
      "cell_type": "code",
      "source": [
        "def even_or_odd(Number = None):\n",
        "  if isinstance(Number, type(None)): # use the isinstance() function\n",
        "    Number = input(\"No input provided. Enter an integer: \")\n",
        "  q, r = divmod(float(Number), 2)\n",
        "  if r == 0:\n",
        "    print(\"The number is even!\")\n",
        "  elif r == 1: # Python 3.10 has a switch case statement instead\n",
        "    print(\"The number is odd!\")\n",
        "  else:\n",
        "    raise ValueError(\"The number is neither even nor odd. Try again with an integer!\")"
      ],
      "metadata": {
        "id": "qiiP6jeFJFWZ"
      },
      "execution_count": 11,
      "outputs": []
    },
    {
      "cell_type": "code",
      "source": [
        "even_or_odd(2.25)"
      ],
      "metadata": {
        "id": "O85n9kyhKFJ_",
        "outputId": "cc687dc4-3acd-4e6a-f38b-9f4bc58dfd29",
        "colab": {
          "base_uri": "https://localhost:8080/",
          "height": 254
        }
      },
      "execution_count": 12,
      "outputs": [
        {
          "output_type": "error",
          "ename": "ValueError",
          "evalue": "ignored",
          "traceback": [
            "\u001b[0;31m---------------------------------------------------------------------------\u001b[0m",
            "\u001b[0;31mValueError\u001b[0m                                Traceback (most recent call last)",
            "\u001b[0;32m<ipython-input-12-ac5dc2d92815>\u001b[0m in \u001b[0;36m<module>\u001b[0;34m()\u001b[0m\n\u001b[0;32m----> 1\u001b[0;31m \u001b[0meven_or_odd\u001b[0m\u001b[0;34m(\u001b[0m\u001b[0;36m2.25\u001b[0m\u001b[0;34m)\u001b[0m\u001b[0;34m\u001b[0m\u001b[0;34m\u001b[0m\u001b[0m\n\u001b[0m",
            "\u001b[0;32m<ipython-input-11-1ef13f12b0c2>\u001b[0m in \u001b[0;36meven_or_odd\u001b[0;34m(Number)\u001b[0m\n\u001b[1;32m      8\u001b[0m     \u001b[0mprint\u001b[0m\u001b[0;34m(\u001b[0m\u001b[0;34m\"The number is odd!\"\u001b[0m\u001b[0;34m)\u001b[0m\u001b[0;34m\u001b[0m\u001b[0;34m\u001b[0m\u001b[0m\n\u001b[1;32m      9\u001b[0m   \u001b[0;32melse\u001b[0m\u001b[0;34m:\u001b[0m\u001b[0;34m\u001b[0m\u001b[0;34m\u001b[0m\u001b[0m\n\u001b[0;32m---> 10\u001b[0;31m     \u001b[0;32mraise\u001b[0m \u001b[0mValueError\u001b[0m\u001b[0;34m(\u001b[0m\u001b[0;34m\"The number is neither even nor odd. Try again with an integer!\"\u001b[0m\u001b[0;34m)\u001b[0m\u001b[0;34m\u001b[0m\u001b[0;34m\u001b[0m\u001b[0m\n\u001b[0m",
            "\u001b[0;31mValueError\u001b[0m: The number is neither even nor odd. Try again with an integer!"
          ]
        }
      ]
    },
    {
      "cell_type": "code",
      "source": [
        "help(even_or_odd)"
      ],
      "metadata": {
        "id": "wPXfQ4aq-_0a",
        "outputId": "0923a5dd-18e3-404b-f677-65ac319d1207",
        "colab": {
          "base_uri": "https://localhost:8080/"
        }
      },
      "execution_count": 19,
      "outputs": [
        {
          "output_type": "stream",
          "name": "stdout",
          "text": [
            "Help on function even_or_odd in module __main__:\n",
            "\n",
            "even_or_odd(Number=None)\n",
            "\n"
          ]
        }
      ]
    },
    {
      "cell_type": "code",
      "source": [
        "# Because 90% of people are illiterate\n",
        "even_or_odd('To')"
      ],
      "metadata": {
        "id": "izrWob7omSQT",
        "outputId": "4bdc9988-7aa6-48f8-b065-93a4eaca656f",
        "colab": {
          "base_uri": "https://localhost:8080/",
          "height": 306
        }
      },
      "execution_count": 13,
      "outputs": [
        {
          "output_type": "error",
          "ename": "ValueError",
          "evalue": "ignored",
          "traceback": [
            "\u001b[0;31m---------------------------------------------------------------------------\u001b[0m",
            "\u001b[0;31mValueError\u001b[0m                                Traceback (most recent call last)",
            "\u001b[0;32m<ipython-input-13-e0efe849da79>\u001b[0m in \u001b[0;36m<module>\u001b[0;34m()\u001b[0m\n\u001b[1;32m      1\u001b[0m \u001b[0;31m# Because 90% of people are illiterate\u001b[0m\u001b[0;34m\u001b[0m\u001b[0;34m\u001b[0m\u001b[0;34m\u001b[0m\u001b[0m\n\u001b[0;32m----> 2\u001b[0;31m \u001b[0meven_or_odd\u001b[0m\u001b[0;34m(\u001b[0m\u001b[0;34m'To'\u001b[0m\u001b[0;34m)\u001b[0m\u001b[0;34m\u001b[0m\u001b[0;34m\u001b[0m\u001b[0m\n\u001b[0m",
            "\u001b[0;32m<ipython-input-11-1ef13f12b0c2>\u001b[0m in \u001b[0;36meven_or_odd\u001b[0;34m(Number)\u001b[0m\n\u001b[1;32m      2\u001b[0m   \u001b[0;32mif\u001b[0m \u001b[0misinstance\u001b[0m\u001b[0;34m(\u001b[0m\u001b[0mNumber\u001b[0m\u001b[0;34m,\u001b[0m \u001b[0mtype\u001b[0m\u001b[0;34m(\u001b[0m\u001b[0;32mNone\u001b[0m\u001b[0;34m)\u001b[0m\u001b[0;34m)\u001b[0m\u001b[0;34m:\u001b[0m \u001b[0;31m# use the isinstance() function\u001b[0m\u001b[0;34m\u001b[0m\u001b[0;34m\u001b[0m\u001b[0m\n\u001b[1;32m      3\u001b[0m     \u001b[0mNumber\u001b[0m \u001b[0;34m=\u001b[0m \u001b[0minput\u001b[0m\u001b[0;34m(\u001b[0m\u001b[0;34m\"No input provided. Enter an integer: \"\u001b[0m\u001b[0;34m)\u001b[0m\u001b[0;34m\u001b[0m\u001b[0;34m\u001b[0m\u001b[0m\n\u001b[0;32m----> 4\u001b[0;31m   \u001b[0mq\u001b[0m\u001b[0;34m,\u001b[0m \u001b[0mr\u001b[0m \u001b[0;34m=\u001b[0m \u001b[0mdivmod\u001b[0m\u001b[0;34m(\u001b[0m\u001b[0mfloat\u001b[0m\u001b[0;34m(\u001b[0m\u001b[0mNumber\u001b[0m\u001b[0;34m)\u001b[0m\u001b[0;34m,\u001b[0m \u001b[0;36m2\u001b[0m\u001b[0;34m)\u001b[0m\u001b[0;34m\u001b[0m\u001b[0;34m\u001b[0m\u001b[0m\n\u001b[0m\u001b[1;32m      5\u001b[0m   \u001b[0;32mif\u001b[0m \u001b[0mr\u001b[0m \u001b[0;34m==\u001b[0m \u001b[0;36m0\u001b[0m\u001b[0;34m:\u001b[0m\u001b[0;34m\u001b[0m\u001b[0;34m\u001b[0m\u001b[0m\n\u001b[1;32m      6\u001b[0m     \u001b[0mprint\u001b[0m\u001b[0;34m(\u001b[0m\u001b[0;34m\"The number is even!\"\u001b[0m\u001b[0;34m)\u001b[0m\u001b[0;34m\u001b[0m\u001b[0;34m\u001b[0m\u001b[0m\n",
            "\u001b[0;31mValueError\u001b[0m: could not convert string to float: 'To'"
          ]
        }
      ]
    },
    {
      "cell_type": "markdown",
      "source": [
        "## Homework 2: look up warnings vs errors"
      ],
      "metadata": {
        "id": "vYflLhZ9T2hd"
      }
    },
    {
      "cell_type": "markdown",
      "source": [
        "## Handling exceptions: the `try/except` block"
      ],
      "metadata": {
        "id": "hHuYvYMBUEzp"
      }
    },
    {
      "cell_type": "code",
      "source": [
        "def even_or_odd(Number = None):\n",
        "  if isinstance(Number, type(None)): # use the isinstance() function\n",
        "    Number = input(\"No input provided. Enter an integer: \")\n",
        "  try:\n",
        "    q, r = divmod(float(Number), 2)\n",
        "    if r == 0:\n",
        "      print(\"The number is even!\")\n",
        "    elif r == 1: # Python 3.10 has a switch case statement instead\n",
        "      print(\"The number is odd!\")\n",
        "    else:\n",
        "      raise ValueError(\"The number is neither even nor odd. Try again with an integer!\")\n",
        "  except:\n",
        "    raise ValueError(\"Input must be a float or int!\")"
      ],
      "metadata": {
        "id": "Y3yKzTPJULe0"
      },
      "execution_count": 14,
      "outputs": []
    },
    {
      "cell_type": "code",
      "source": [
        "even_or_odd('To')"
      ],
      "metadata": {
        "id": "Xurt2KziUVPj",
        "outputId": "fc08f73c-0046-47ba-c819-6a74cc6c771c",
        "colab": {
          "base_uri": "https://localhost:8080/",
          "height": 400
        }
      },
      "execution_count": 15,
      "outputs": [
        {
          "output_type": "error",
          "ename": "ValueError",
          "evalue": "ignored",
          "traceback": [
            "\u001b[0;31m---------------------------------------------------------------------------\u001b[0m",
            "\u001b[0;31mValueError\u001b[0m                                Traceback (most recent call last)",
            "\u001b[0;32m<ipython-input-14-e744a4a59475>\u001b[0m in \u001b[0;36meven_or_odd\u001b[0;34m(Number)\u001b[0m\n\u001b[1;32m      4\u001b[0m   \u001b[0;32mtry\u001b[0m\u001b[0;34m:\u001b[0m\u001b[0;34m\u001b[0m\u001b[0;34m\u001b[0m\u001b[0m\n\u001b[0;32m----> 5\u001b[0;31m     \u001b[0mq\u001b[0m\u001b[0;34m,\u001b[0m \u001b[0mr\u001b[0m \u001b[0;34m=\u001b[0m \u001b[0mdivmod\u001b[0m\u001b[0;34m(\u001b[0m\u001b[0mfloat\u001b[0m\u001b[0;34m(\u001b[0m\u001b[0mNumber\u001b[0m\u001b[0;34m)\u001b[0m\u001b[0;34m,\u001b[0m \u001b[0;36m2\u001b[0m\u001b[0;34m)\u001b[0m\u001b[0;34m\u001b[0m\u001b[0;34m\u001b[0m\u001b[0m\n\u001b[0m\u001b[1;32m      6\u001b[0m     \u001b[0;32mif\u001b[0m \u001b[0mr\u001b[0m \u001b[0;34m==\u001b[0m \u001b[0;36m0\u001b[0m\u001b[0;34m:\u001b[0m\u001b[0;34m\u001b[0m\u001b[0;34m\u001b[0m\u001b[0m\n",
            "\u001b[0;31mValueError\u001b[0m: could not convert string to float: 'To'",
            "\nDuring handling of the above exception, another exception occurred:\n",
            "\u001b[0;31mValueError\u001b[0m                                Traceback (most recent call last)",
            "\u001b[0;32m<ipython-input-15-78cc828ed0f4>\u001b[0m in \u001b[0;36m<module>\u001b[0;34m()\u001b[0m\n\u001b[0;32m----> 1\u001b[0;31m \u001b[0meven_or_odd\u001b[0m\u001b[0;34m(\u001b[0m\u001b[0;34m'To'\u001b[0m\u001b[0;34m)\u001b[0m\u001b[0;34m\u001b[0m\u001b[0;34m\u001b[0m\u001b[0m\n\u001b[0m",
            "\u001b[0;32m<ipython-input-14-e744a4a59475>\u001b[0m in \u001b[0;36meven_or_odd\u001b[0;34m(Number)\u001b[0m\n\u001b[1;32m     11\u001b[0m       \u001b[0;32mraise\u001b[0m \u001b[0mValueError\u001b[0m\u001b[0;34m(\u001b[0m\u001b[0;34m\"The number is neither even nor odd. Try again with an integer!\"\u001b[0m\u001b[0;34m)\u001b[0m\u001b[0;34m\u001b[0m\u001b[0;34m\u001b[0m\u001b[0m\n\u001b[1;32m     12\u001b[0m   \u001b[0;32mexcept\u001b[0m\u001b[0;34m:\u001b[0m\u001b[0;34m\u001b[0m\u001b[0;34m\u001b[0m\u001b[0m\n\u001b[0;32m---> 13\u001b[0;31m     \u001b[0;32mraise\u001b[0m \u001b[0mValueError\u001b[0m\u001b[0;34m(\u001b[0m\u001b[0;34m\"Input must be a float or int!\"\u001b[0m\u001b[0;34m)\u001b[0m\u001b[0;34m\u001b[0m\u001b[0;34m\u001b[0m\u001b[0m\n\u001b[0m",
            "\u001b[0;31mValueError\u001b[0m: Input must be a float or int!"
          ]
        }
      ]
    },
    {
      "cell_type": "markdown",
      "source": [
        "## Homework 3: look up differences between errors and exceptions and when to use one over the other"
      ],
      "metadata": {
        "id": "VkDslVvSwLSf"
      }
    },
    {
      "cell_type": "markdown",
      "source": [
        "## Classes: attributes and methods; docstrings"
      ],
      "metadata": {
        "id": "QNwmjBBVmhS6"
      }
    },
    {
      "cell_type": "code",
      "source": [
        "class Person():\n",
        "  \"\"\"\n",
        "  Instantiates a Person class with some attributes\n",
        "  \"\"\"\n",
        "\n",
        "  def __init__(self, Name: str = None, Age: int = None, Weight: float = None, Height: float = None) -> None:\n",
        "    \"\"\"\n",
        "    __init__ method for the Person class\n",
        "    Parameters\n",
        "    ----------\n",
        "    Name: str\n",
        "      Name of person. Defaults to None.\n",
        "    Age: int\n",
        "      Age of person in years. Defaults to None.\n",
        "    Weight: float\n",
        "      Weight of person in kg. Defaults to None.\n",
        "    Height: float\n",
        "      Height of person in m. Defaults to None.\n",
        "\n",
        "    Returns\n",
        "    -------\n",
        "    \"\"\"\n",
        "    self.name = Name\n",
        "    self.age = Age\n",
        "    self.weight = Weight\n",
        "    self.height = Height\n",
        "  \n",
        "  def bmi(self) -> float:\n",
        "    \"\"\"\n",
        "    Set the body mass index attribute for an instance of the Person class.\n",
        "    The BMI is set according to bmi = weight / height**2\n",
        "    Parameters\n",
        "    ----------\n",
        "    self: class\n",
        "      an instance of the Person class\n",
        "    Returns\n",
        "    -------\n",
        "    self.bmi: float\n",
        "      The body mass index in kg/m**2 if self.weight and self.height are not None.\n",
        "      Defaults to None.\n",
        "    \"\"\"\n",
        "    if (self.weight is not None) and (self.height is not None):\n",
        "      return self.weight / self.height**2\n",
        "    else:\n",
        "      return None"
      ],
      "metadata": {
        "id": "VAKE7P0S0BIa"
      },
      "execution_count": 18,
      "outputs": []
    },
    {
      "cell_type": "code",
      "source": [
        "help(Person) # display docstring for this class"
      ],
      "metadata": {
        "colab": {
          "base_uri": "https://localhost:8080/"
        },
        "id": "QTtMjGiIye_p",
        "outputId": "4a5efaee-ae54-48ed-fb5f-e8f9bcea10f8"
      },
      "execution_count": 20,
      "outputs": [
        {
          "output_type": "stream",
          "name": "stdout",
          "text": [
            "Help on class Person in module __main__:\n",
            "\n",
            "class Person(builtins.object)\n",
            " |  Person(Name: str = None, Age: int = None, Weight: float = None, Height: float = None) -> None\n",
            " |  \n",
            " |  Instantiates a Person class with some attributes\n",
            " |  \n",
            " |  Methods defined here:\n",
            " |  \n",
            " |  __init__(self, Name: str = None, Age: int = None, Weight: float = None, Height: float = None) -> None\n",
            " |      __init__ method for the Person class\n",
            " |      Parameters\n",
            " |      ----------\n",
            " |      Name: str\n",
            " |        Name of person. Defaults to None.\n",
            " |      Age: int\n",
            " |        Age of person in years. Defaults to None.\n",
            " |      Weight: float\n",
            " |        Weight of person in kg. Defaults to None.\n",
            " |      Height: float\n",
            " |        Height of person in m. Defaults to None.\n",
            " |      \n",
            " |      Returns\n",
            " |      -------\n",
            " |  \n",
            " |  bmi(self) -> float\n",
            " |      Set the body mass index attribute for an instance of the Person class.\n",
            " |      The BMI is set according to bmi = weight / height**2\n",
            " |      Parameters\n",
            " |      ----------\n",
            " |      self: class\n",
            " |        an instance of the Person class\n",
            " |      Returns\n",
            " |      -------\n",
            " |      self.bmi: float\n",
            " |        The body mass index in kg/m**2 if self.weight and self.height are not None.\n",
            " |        Defaults to None.\n",
            " |  \n",
            " |  ----------------------------------------------------------------------\n",
            " |  Data descriptors defined here:\n",
            " |  \n",
            " |  __dict__\n",
            " |      dictionary for instance variables (if defined)\n",
            " |  \n",
            " |  __weakref__\n",
            " |      list of weak references to the object (if defined)\n",
            "\n"
          ]
        }
      ]
    },
    {
      "cell_type": "code",
      "source": [
        "dir(Person) # list all methods and attributes for this class"
      ],
      "metadata": {
        "colab": {
          "base_uri": "https://localhost:8080/"
        },
        "id": "P57O9x53ygn6",
        "outputId": "ef8cfa98-fc78-4208-fd91-10b99479d619"
      },
      "execution_count": 23,
      "outputs": [
        {
          "output_type": "execute_result",
          "data": {
            "text/plain": [
              "['__class__',\n",
              " '__delattr__',\n",
              " '__dict__',\n",
              " '__dir__',\n",
              " '__doc__',\n",
              " '__eq__',\n",
              " '__format__',\n",
              " '__ge__',\n",
              " '__getattribute__',\n",
              " '__gt__',\n",
              " '__hash__',\n",
              " '__init__',\n",
              " '__init_subclass__',\n",
              " '__le__',\n",
              " '__lt__',\n",
              " '__module__',\n",
              " '__ne__',\n",
              " '__new__',\n",
              " '__reduce__',\n",
              " '__reduce_ex__',\n",
              " '__repr__',\n",
              " '__setattr__',\n",
              " '__sizeof__',\n",
              " '__str__',\n",
              " '__subclasshook__',\n",
              " '__weakref__',\n",
              " 'bmi']"
            ]
          },
          "metadata": {},
          "execution_count": 23
        }
      ]
    },
    {
      "cell_type": "code",
      "source": [
        "help(Person.bmi) # display docstrong for this method"
      ],
      "metadata": {
        "colab": {
          "base_uri": "https://localhost:8080/"
        },
        "id": "L9rAc-C0yot4",
        "outputId": "bc9dfad3-1fd2-4b6f-db13-8b840a8fd670"
      },
      "execution_count": 24,
      "outputs": [
        {
          "output_type": "stream",
          "name": "stdout",
          "text": [
            "Help on function bmi in module __main__:\n",
            "\n",
            "bmi(self) -> float\n",
            "    Set the body mass index attribute for an instance of the Person class.\n",
            "    The BMI is set according to bmi = weight / height**2\n",
            "    Parameters\n",
            "    ----------\n",
            "    self: class\n",
            "      an instance of the Person class\n",
            "    Returns\n",
            "    -------\n",
            "    self.bmi: float\n",
            "      The body mass index in kg/m**2 if self.weight and self.height are not None.\n",
            "      Defaults to None.\n",
            "\n"
          ]
        }
      ]
    },
    {
      "cell_type": "code",
      "source": [
        "pHuman = Person('Babu', 42, Weight = 80.2182, Height = 1.6025)"
      ],
      "metadata": {
        "id": "FmInVFpX2iNr"
      },
      "execution_count": 27,
      "outputs": []
    },
    {
      "cell_type": "code",
      "source": [
        "pHuma2 = Person('Kowtam', Age = 48, 102.62, Height = 1.761)"
      ],
      "metadata": {
        "id": "_PckCV3gDIu4",
        "outputId": "bbe171da-f676-4d3e-e1bd-7c54c6ed1bf4",
        "colab": {
          "base_uri": "https://localhost:8080/",
          "height": 132
        }
      },
      "execution_count": 28,
      "outputs": [
        {
          "output_type": "error",
          "ename": "SyntaxError",
          "evalue": "ignored",
          "traceback": [
            "\u001b[0;36m  File \u001b[0;32m\"<ipython-input-28-635192f22953>\"\u001b[0;36m, line \u001b[0;32m1\u001b[0m\n\u001b[0;31m    pHuma2 = Person('Kowtam', Age = 48, 102.62, Height = 1.761)\u001b[0m\n\u001b[0m                                       ^\u001b[0m\n\u001b[0;31mSyntaxError\u001b[0m\u001b[0;31m:\u001b[0m positional argument follows keyword argument\n"
          ]
        }
      ]
    },
    {
      "cell_type": "code",
      "source": [
        "txt1 = \"{}'s weight is {} kg.\"\n",
        "txt2 = \"{}'s weight is {:.2f} kg.\"\n",
        "\n",
        "print(txt1.format(pHuman.name, pHuman.weight))\n",
        "\n",
        "print(txt2.format(pHuman.name, pHuman.weight))\n",
        "\n",
        "txt3 = \"{}'s BMI is {} kg/m**2.\"\n",
        "txt4 = \"{}'s BMI is {:.2f} kg/m**2.\"\n",
        "\n",
        "print(txt3.format(pHuman.name, pHuman.bmi()))\n",
        "print(txt4.format(pHuman.name, pHuman.bmi()))\n",
        "\n",
        "txt5 = \"The perpetrator weighed {1} kg and had a BMI of {2} kg/m**2. This means that the murderer is {0}!!\"\n",
        "print(txt5.format(pHuman.name, pHuman.weight, pHuman.bmi))\n",
        "txt6 = \"The perpetrator weighed {1:.1f} kg and had a BMI of {2:.2f} kg/m**2. This means that the murderer is {0}!!\"\n",
        "print(txt6.format(pHuman.name, pHuman.weight, pHuman.bmi()))\n",
        "\n",
        "txt7 = \"His name is {nAmE}, he is {AGE} years old.\"\n",
        "print(txt7.format(nAmE = pHuman.name, AGE = pHuman.age))"
      ],
      "metadata": {
        "id": "BX1ccTse382_",
        "outputId": "91c0aadc-c819-462f-9b6c-f15df8830464",
        "colab": {
          "base_uri": "https://localhost:8080/"
        }
      },
      "execution_count": 29,
      "outputs": [
        {
          "output_type": "stream",
          "name": "stdout",
          "text": [
            "Babu's weight is 80.2182 kg.\n",
            "Babu's weight is 80.22 kg.\n",
            "Babu's BMI is 31.23754079648365 kg/m**2.\n",
            "Babu's BMI is 31.24 kg/m**2.\n",
            "The perpetrator weighed 80.2182 kg and had a BMI of <bound method Person.bmi of <__main__.Person object at 0x7ff017eeb150>> kg/m**2. This means that the murderer is Babu!!\n",
            "The perpetrator weighed 80.2 kg and had a BMI of 31.24 kg/m**2. This means that the murderer is Babu!!\n",
            "His name is Babu, he is 42 years old.\n"
          ]
        }
      ]
    },
    {
      "cell_type": "markdown",
      "source": [
        "## The `getattr` and `setattr` methods"
      ],
      "metadata": {
        "id": "RU_k1GrQyx9K"
      }
    },
    {
      "cell_type": "code",
      "source": [
        "print(getattr(pHuman, 'age'))\n",
        "\n",
        "setattr(pHuman, 'age', 40)\n",
        "\n",
        "print(getattr(pHuman, 'age'))"
      ],
      "metadata": {
        "colab": {
          "base_uri": "https://localhost:8080/"
        },
        "id": "NyYqpL3py23b",
        "outputId": "e53d1be7-b757-4c64-8589-a1095477bcf3"
      },
      "execution_count": 30,
      "outputs": [
        {
          "output_type": "stream",
          "name": "stdout",
          "text": [
            "42\n",
            "40\n"
          ]
        }
      ]
    },
    {
      "cell_type": "code",
      "source": [
        "# Attributes can be added\n",
        "pHuman.mass = pHuman.weight"
      ],
      "metadata": {
        "id": "O2MRSMt5A6o3"
      },
      "execution_count": 33,
      "outputs": []
    },
    {
      "cell_type": "markdown",
      "source": [
        "## Advanced: look up \"dunder methods\". Specifically, check out the `__init__` method. Look up class decorators."
      ],
      "metadata": {
        "id": "8QZHcZIfwxve"
      }
    }
  ]
}