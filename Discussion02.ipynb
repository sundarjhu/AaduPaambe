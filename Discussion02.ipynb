{
  "nbformat": 4,
  "nbformat_minor": 0,
  "metadata": {
    "colab": {
      "name": "Copy of Untitled8.ipynb",
      "provenance": [],
      "collapsed_sections": [],
      "include_colab_link": true
    },
    "kernelspec": {
      "name": "python3",
      "display_name": "Python 3"
    },
    "language_info": {
      "name": "python"
    }
  },
  "cells": [
    {
      "cell_type": "markdown",
      "metadata": {
        "id": "view-in-github",
        "colab_type": "text"
      },
      "source": [
        "<a href=\"https://colab.research.google.com/github/sundarjhu/AaduPaambe/blob/main/Discussion02.ipynb\" target=\"_parent\"><img src=\"https://colab.research.google.com/assets/colab-badge.svg\" alt=\"Open In Colab\"/></a>"
      ]
    },
    {
      "cell_type": "markdown",
      "source": [
        "## For a very exhaustive beginner tutorial: [Corey Schafer](https://www.youtube.com/watch?v=W8KRzm-HUcc&list=PL-osiE80TeTskrapNbzXhwoFUiLCjGgY7&index=4)"
      ],
      "metadata": {
        "id": "-67r1Z0Nx5p8"
      }
    },
    {
      "cell_type": "markdown",
      "source": [
        "## Define the class from last time for use in today's examples"
      ],
      "metadata": {
        "id": "zrJDvaODUvZv"
      }
    },
    {
      "cell_type": "code",
      "source": [
        "class Person():\n",
        "  \"\"\"\n",
        "  Instantiates a Person class with some attributes\n",
        "  \"\"\"\n",
        "\n",
        "  def __init__(self, Name: str = None, Age: int = None, Weight: float = None, Height: float = None) -> None:\n",
        "    \"\"\"\n",
        "    __init__ method for the Person class\n",
        "    Parameters\n",
        "    ----------\n",
        "    Name: str\n",
        "      Name of person. Defaults to None.\n",
        "    Age: int\n",
        "      Age of person in years. Defaults to None.\n",
        "    Weight: float\n",
        "      Weight of person in kg. Defaults to None.\n",
        "    Height: float\n",
        "      Height of person in m. Defaults to None.\n",
        "\n",
        "    Returns\n",
        "    -------\n",
        "    \"\"\"\n",
        "    self.name = Name\n",
        "    self.age = Age\n",
        "    self.weight = Weight\n",
        "    self.height = Height\n",
        "  \n",
        "  def bmi(self) -> float:\n",
        "    \"\"\"\n",
        "    Set the body mass index attribute for an instance of the Person class.\n",
        "    The BMI is set according to bmi = weight / height**2\n",
        "    Parameters\n",
        "    ----------\n",
        "    self: class\n",
        "      an instance of the Person class\n",
        "    Returns\n",
        "    -------\n",
        "    self.bmi: float\n",
        "      The body mass index in kg/m**2 if self.weight and self.height are not None.\n",
        "      Defaults to None.\n",
        "    \"\"\"\n",
        "    if (self.weight is not None) and (self.height is not None):\n",
        "      return self.weight / self.height**2\n",
        "    else:\n",
        "      return None"
      ],
      "metadata": {
        "id": "XDWHKYhBUuf8"
      },
      "execution_count": 103,
      "outputs": []
    },
    {
      "cell_type": "markdown",
      "source": [
        "# Lists (and tuples and sets)\n",
        "\n",
        ">### `list` -- ordered, repeated data in a mutable structure\n",
        ">### `tuple` -- ordered, repeated data in an immutable structure\n",
        ">### `set` -- unordered, unduplicated data"
      ],
      "metadata": {
        "id": "wiP099mON2TF"
      }
    },
    {
      "cell_type": "code",
      "source": [
        "firstnames = ['Alexander', 'Ayub', 'Bobby', 'Derick', 'Elias']\n",
        "lastnames = ['Menon', 'Sayyed', 'Namboodhiri', 'Menon', 'Reddy']\n",
        "\n",
        "for f in firstnames:\n",
        "  print(\"My first name is not {}\".format(f))\n",
        "\n",
        "fullnames = []\n",
        "for f, n in zip(firstnames, lastnames):\n",
        "  fullnames.append(f + ' ' + n)\n",
        "  print(\"My full name is not {} {}\".format(f, n))\n",
        "\n",
        "print(fullnames)\n",
        "del(fullnames)"
      ],
      "metadata": {
        "id": "DfzwvKQEJi8o",
        "outputId": "76f74242-56f3-4985-b4c0-63bef7f28fc2",
        "colab": {
          "base_uri": "https://localhost:8080/"
        }
      },
      "execution_count": 108,
      "outputs": [
        {
          "output_type": "stream",
          "name": "stdout",
          "text": [
            "My first name is not Alexander\n",
            "My first name is not Ayub\n",
            "My first name is not Bobby\n",
            "My first name is not Derick\n",
            "My first name is not Elias\n",
            "My full name is not Alexander Menon\n",
            "My full name is not Ayub Sayyed\n",
            "My full name is not Bobby Namboodhiri\n",
            "My full name is not Derick Menon\n",
            "My full name is not Elias Reddy\n",
            "['Alexander Menon', 'Ayub Sayyed', 'Bobby Namboodhiri', 'Derick Menon', 'Elias Reddy']\n"
          ]
        }
      ]
    },
    {
      "cell_type": "markdown",
      "source": [
        "### Check for membership"
      ],
      "metadata": {
        "id": "5pHMBnFWh8N1"
      }
    },
    {
      "cell_type": "code",
      "source": [
        "print('Alexander' in firstnames)\n",
        "print('Porkaas' in firstnames)"
      ],
      "metadata": {
        "colab": {
          "base_uri": "https://localhost:8080/"
        },
        "id": "CH2YlfXdh_BG",
        "outputId": "74a78d30-6aff-4b52-9ad2-46aa356291bd"
      },
      "execution_count": 105,
      "outputs": [
        {
          "output_type": "stream",
          "name": "stdout",
          "text": [
            "True\n",
            "False\n"
          ]
        }
      ]
    },
    {
      "cell_type": "markdown",
      "source": [
        "### Lists and sets can be heterogeneous"
      ],
      "metadata": {
        "id": "dC974M14U3oy"
      }
    },
    {
      "cell_type": "code",
      "source": [
        "Abhinav = Person('SuperSuar', 25, 100, 0.65)\n",
        "Het_List = [1, firstnames[1], Abhinav, ['a', 'b', 'c']]\n",
        "for hl in Het_List:\n",
        "  print(type(hl))"
      ],
      "metadata": {
        "colab": {
          "base_uri": "https://localhost:8080/"
        },
        "id": "rmxHbbHvU8jG",
        "outputId": "465bd602-ae3c-4856-d67f-cdb9b9db6964"
      },
      "execution_count": 106,
      "outputs": [
        {
          "output_type": "stream",
          "name": "stdout",
          "text": [
            "<class 'int'>\n",
            "<class 'str'>\n",
            "<class '__main__.Person'>\n",
            "<class 'list'>\n"
          ]
        }
      ]
    },
    {
      "cell_type": "markdown",
      "source": [
        "### Converting between `string` and `list` aka how Sundar generates CSV files"
      ],
      "metadata": {
        "id": "opldFCE4kjyE"
      }
    },
    {
      "cell_type": "code",
      "source": [
        "# Use the str.join() method to combine elements in a list with a specified separator\n",
        "allnames = ', '.join(firstnames)\n",
        "print(allnames)\n",
        "\n",
        "# Split a string into a list of substrings by separating using a specified separator\n",
        "print(allnames.split(', '))"
      ],
      "metadata": {
        "colab": {
          "base_uri": "https://localhost:8080/"
        },
        "id": "ZLe58NYFkqnh",
        "outputId": "422009ef-41bb-4e28-f84b-dc77b58e0063"
      },
      "execution_count": 107,
      "outputs": [
        {
          "output_type": "stream",
          "name": "stdout",
          "text": [
            "Alexander, Ayub, Bobby, Derick, Elias\n",
            "['Alexander', 'Ayub', 'Bobby', 'Derick', 'Elias']\n"
          ]
        }
      ]
    },
    {
      "cell_type": "markdown",
      "source": [
        "## List comprehension"
      ],
      "metadata": {
        "id": "I3-nN1tk6Hl2"
      }
    },
    {
      "cell_type": "code",
      "source": [
        "# Long version\n",
        "fullnames = []\n",
        "for f, n in zip(firstnames, lastnames):\n",
        "  fullnames.append(f + ' ' + n)\n",
        "  print(\"My full name is not {} {}\".format(f, n))\n",
        "\n",
        "# Short version\n",
        "fullnames = [f + ' ' + n if 'Alexander' in f else '' for f, n in zip(firstnames, lastnames)]\n",
        "print(fullnames)\n",
        "\n",
        "allcapslastnames = [l.upper() for l in lastnames] # l.lower() for lower case.\n",
        "print(allcapslastnames)"
      ],
      "metadata": {
        "id": "hjAWA1iE6I71",
        "outputId": "ec706bcd-28dc-4530-9310-b5ed96ecf67d",
        "colab": {
          "base_uri": "https://localhost:8080/"
        }
      },
      "execution_count": 110,
      "outputs": [
        {
          "output_type": "stream",
          "name": "stdout",
          "text": [
            "My full name is not Alexander Menon\n",
            "My full name is not Ayub Sayyed\n",
            "My full name is not Bobby Namboodhiri\n",
            "My full name is not Derick Menon\n",
            "My full name is not Elias Reddy\n",
            "['Alexander Menon', '', '', '', '']\n",
            "['MENON', 'SAYYED', 'NAMBOODHIRI', 'MENON', 'REDDY']\n"
          ]
        }
      ]
    },
    {
      "cell_type": "markdown",
      "source": [
        "##List methods"
      ],
      "metadata": {
        "id": "5qSfVEMqZfwr"
      }
    },
    {
      "cell_type": "code",
      "source": [
        "dir(firstnames)"
      ],
      "metadata": {
        "id": "24Gpo8nV6OGh",
        "outputId": "06421659-2645-485e-da5f-ca601c7aa267",
        "colab": {
          "base_uri": "https://localhost:8080/"
        }
      },
      "execution_count": null,
      "outputs": [
        {
          "output_type": "execute_result",
          "data": {
            "text/plain": [
              "['__add__',\n",
              " '__class__',\n",
              " '__contains__',\n",
              " '__delattr__',\n",
              " '__delitem__',\n",
              " '__dir__',\n",
              " '__doc__',\n",
              " '__eq__',\n",
              " '__format__',\n",
              " '__ge__',\n",
              " '__getattribute__',\n",
              " '__getitem__',\n",
              " '__gt__',\n",
              " '__hash__',\n",
              " '__iadd__',\n",
              " '__imul__',\n",
              " '__init__',\n",
              " '__init_subclass__',\n",
              " '__iter__',\n",
              " '__le__',\n",
              " '__len__',\n",
              " '__lt__',\n",
              " '__mul__',\n",
              " '__ne__',\n",
              " '__new__',\n",
              " '__reduce__',\n",
              " '__reduce_ex__',\n",
              " '__repr__',\n",
              " '__reversed__',\n",
              " '__rmul__',\n",
              " '__setattr__',\n",
              " '__setitem__',\n",
              " '__sizeof__',\n",
              " '__str__',\n",
              " '__subclasshook__',\n",
              " 'append',\n",
              " 'clear',\n",
              " 'copy',\n",
              " 'count',\n",
              " 'extend',\n",
              " 'index',\n",
              " 'insert',\n",
              " 'pop',\n",
              " 'remove',\n",
              " 'reverse',\n",
              " 'sort']"
            ]
          },
          "metadata": {},
          "execution_count": 62
        }
      ]
    },
    {
      "cell_type": "code",
      "source": [
        "print(firstnames.__contains__('Ayub'))\n",
        "print('Ayub' in firstnames)\n",
        "print(firstnames.count('Alexander'))"
      ],
      "metadata": {
        "id": "IlDI4p346csh",
        "outputId": "d9b5c270-9eb3-475b-a3c5-2dffdb553501",
        "colab": {
          "base_uri": "https://localhost:8080/"
        }
      },
      "execution_count": 111,
      "outputs": [
        {
          "output_type": "stream",
          "name": "stdout",
          "text": [
            "True\n",
            "True\n",
            "1\n"
          ]
        }
      ]
    },
    {
      "cell_type": "code",
      "source": [
        "# How does __contains__ work with classes?\n",
        "aragorn = Person('Aragorn', 300, 100, 1.5)\n",
        "clist = [aragorn, Person('Arwen', 1200, 90, 1.2), \n",
        "         Person('Bilbo', 111, 45, 0.70)]\n",
        "print(clist.__contains__(aragorn))\n",
        "Person('Aragorn') in clist"
      ],
      "metadata": {
        "id": "Md8zbz2c4Mi1",
        "outputId": "71e5a7d3-cc44-4789-b9dc-b150dc9b3902",
        "colab": {
          "base_uri": "https://localhost:8080/"
        }
      },
      "execution_count": 118,
      "outputs": [
        {
          "output_type": "stream",
          "name": "stdout",
          "text": [
            "True\n"
          ]
        },
        {
          "output_type": "execute_result",
          "data": {
            "text/plain": [
              "False"
            ]
          },
          "metadata": {},
          "execution_count": 118
        }
      ]
    },
    {
      "cell_type": "code",
      "source": [
        "# inserting individual elements\n",
        "firstnames.insert(3, 'Alien')\n",
        "lastnames.insert(3, 'Rathod')\n",
        "\n",
        "# removing elements referring to them by their value\n",
        "#   CAUTION! Will only remove first instance!\n",
        "firstnames.remove('Alexander')\n",
        "lastnames.remove('Menon')\n",
        "# removing individual elements by their index\n",
        "print(\"Removing {} from firstnames.\".format(firstnames.pop(4)))\n",
        "print(\"Removing {} from lastnames.\".format(lastnames.pop(4)))\n",
        "#### `pop` without an argument removes the last element -- stack-like\n",
        "\n",
        "# same as inserting one element at the end\n",
        "firstnames.append('Gustavo')\n",
        "lastnames.append('Pandiyan')\n",
        "\n",
        "# can we use `insert` or `append` to add multiple elements?\n",
        "tryball = firstnames.copy() # ACCOUNTING FOR MUTABILITY\n",
        "firstnames_new = ['Jason', 'Alexander', 'Chammaiyya']\n",
        "lastnames_new = ['Gundappa', 'Punnoose', 'Bose']\n",
        "# let's try `insert` first\n",
        "tryball.insert(2, firstnames_new)\n",
        "print(tryball)\n",
        "tryball.pop(2)\n",
        "# `append` has the same effect\n",
        "tryball.append(firstnames_new)\n",
        "print(tryball)\n",
        "# this is why we need the `extend` method\n",
        "firstnames.extend(firstnames_new)\n",
        "lastnames.extend(lastnames_new)\n",
        "print(firstnames)"
      ],
      "metadata": {
        "id": "ePklCYaV6pmd",
        "colab": {
          "base_uri": "https://localhost:8080/"
        },
        "outputId": "34e65e57-6b0b-4942-f4e4-4a4e036f1e5c"
      },
      "execution_count": null,
      "outputs": [
        {
          "output_type": "stream",
          "name": "stdout",
          "text": [
            "Removing Derick from firstnames.\n",
            "Removing Pandiyan from lastnames.\n",
            "['Ayub', 'Bobby', ['Jason', 'Alexander', 'Chammaiyya'], 'Alien', 'Alien', 'Gustavo', 'Jason', 'Chammaiyya', 'Gustavo']\n",
            "['Ayub', 'Bobby', 'Alien', 'Alien', 'Gustavo', 'Jason', 'Chammaiyya', 'Gustavo', ['Jason', 'Alexander', 'Chammaiyya']]\n",
            "['Ayub', 'Bobby', 'Alien', 'Alien', 'Gustavo', 'Jason', 'Chammaiyya', 'Gustavo', 'Jason', 'Alexander', 'Chammaiyya']\n"
          ]
        }
      ]
    },
    {
      "cell_type": "code",
      "source": [
        "firstnames.count('Alexander')"
      ],
      "metadata": {
        "id": "oDuWqx5B7QFX",
        "outputId": "7b6c4649-5933-466d-c457-351ec57f044b",
        "colab": {
          "base_uri": "https://localhost:8080/"
        }
      },
      "execution_count": null,
      "outputs": [
        {
          "output_type": "execute_result",
          "data": {
            "text/plain": [
              "1"
            ]
          },
          "metadata": {},
          "execution_count": 69
        }
      ]
    },
    {
      "cell_type": "code",
      "source": [
        "idx = firstnames.index('Jason')\n",
        "_ = firstnames.pop(idx)\n",
        "_ = lastnames.pop(idx)"
      ],
      "metadata": {
        "id": "BVOl8Cn670YB"
      },
      "execution_count": null,
      "outputs": []
    },
    {
      "cell_type": "code",
      "source": [
        "LastNames = lastnames.copy()\n",
        "# the following returns a sorted version without overwriting\n",
        "#   original list\n",
        "print(sorted(LastNames))\n",
        "print(sorted(LastNames, reverse = True))\n",
        "\n",
        "# the following method sorts in place\n",
        "LastNames.sort()\n",
        "print(LastNames)\n",
        "\n",
        "# return a reversed version without overwriting original list\n",
        "print(LastNames[::-1]) # see indexing and slicing below\n",
        "print(LastNames)\n",
        "# reverse in place\n",
        "LastNames.reverse()\n",
        "print(LastNames)"
      ],
      "metadata": {
        "id": "qYHAYJx-9yIw",
        "outputId": "26961a30-7a3e-4f28-fa53-2d803bfaa466",
        "colab": {
          "base_uri": "https://localhost:8080/"
        }
      },
      "execution_count": null,
      "outputs": [
        {
          "output_type": "stream",
          "name": "stdout",
          "text": [
            "['Bose', 'Bose', 'Gundappa', 'Gundappa', 'Namboodhiri', 'Pandiyan', 'Punnoose', 'Punnoose', 'Rathod', 'Rathod', 'Sayyed']\n",
            "['Sayyed', 'Rathod', 'Rathod', 'Punnoose', 'Punnoose', 'Pandiyan', 'Namboodhiri', 'Gundappa', 'Gundappa', 'Bose', 'Bose']\n",
            "['Bose', 'Bose', 'Gundappa', 'Gundappa', 'Namboodhiri', 'Pandiyan', 'Punnoose', 'Punnoose', 'Rathod', 'Rathod', 'Sayyed']\n",
            "['Sayyed', 'Rathod', 'Rathod', 'Punnoose', 'Punnoose', 'Pandiyan', 'Namboodhiri', 'Gundappa', 'Gundappa', 'Bose', 'Bose']\n",
            "['Bose', 'Bose', 'Gundappa', 'Gundappa', 'Namboodhiri', 'Pandiyan', 'Punnoose', 'Punnoose', 'Rathod', 'Rathod', 'Sayyed']\n",
            "['Sayyed', 'Rathod', 'Rathod', 'Punnoose', 'Punnoose', 'Pandiyan', 'Namboodhiri', 'Gundappa', 'Gundappa', 'Bose', 'Bose']\n"
          ]
        }
      ]
    },
    {
      "cell_type": "markdown",
      "source": [
        "## Indexing and slicing"
      ],
      "metadata": {
        "id": "kU6uKdlm_Akt"
      }
    },
    {
      "cell_type": "code",
      "source": [
        "print(\"The list has {} names\".format(len(firstnames)))\n",
        "\n",
        "#Access individual elements based on their location from either the beginning or the end\n",
        "print(\"The third name in the list is\", firstnames[2])\n",
        "print(\"The third name in the list, accessed from the end, is\", firstnames[-len(firstnames) + 2])\n",
        "\n",
        "# This will print elements with indices starting at 3 up to BUT EXCLUDING 7\n",
        "print(\"A slice from this list: {}\".format(firstnames[3:7]))\n",
        "\n",
        "# The following lines have the same result (you can omit 0)\n",
        "print(\"The first three elements are {}\".format(firstnames[0:4]))\n",
        "print(\"The first three elements are {}\".format(firstnames[:4]))\n",
        "\n",
        "# Because of the way that slices are specified,\n",
        "#   the following lines will have differing results\n",
        "print(\"The last two elements are {}\".format(firstnames[-3:-1]))\n",
        "print(\"The last three elements are {}\".format(firstnames[-3:]))\n",
        "\n",
        "# This will print elements in steps of 3\n",
        "print(\"Every third name in the list: {}\".format(firstnames[::3]))\n",
        "\n",
        "# This will reverse the list in place\n",
        "print(\"List in reverse order: {}\".format(firstnames[::-1]))\n"
      ],
      "metadata": {
        "id": "f5y_-N8b_Eeu",
        "outputId": "e2cc3a89-f5c1-402e-ea73-3affdc895120",
        "colab": {
          "base_uri": "https://localhost:8080/"
        }
      },
      "execution_count": null,
      "outputs": [
        {
          "output_type": "stream",
          "name": "stdout",
          "text": [
            "The list has 8 names\n",
            "The third name in the list is Bobby\n",
            "The third name in the list, accessed from the end, is Bobby\n",
            "A slice from this list: ['Alien', 'Elias', 'Gustavo', 'Alexander']\n",
            "The first three elements are ['Alexander', 'Ayub', 'Bobby', 'Alien']\n",
            "The first three elements are ['Alexander', 'Ayub', 'Bobby', 'Alien']\n",
            "The last two elements are ['Gustavo', 'Alexander']\n",
            "The last three elements are ['Gustavo', 'Alexander', 'Chammaiyya']\n",
            "Every third name in the list: ['Alexander', 'Alien', 'Alexander']\n",
            "List in reverse order: ['Chammaiyya', 'Alexander', 'Gustavo', 'Elias', 'Alien', 'Bobby', 'Ayub', 'Alexander']\n"
          ]
        }
      ]
    },
    {
      "cell_type": "markdown",
      "source": [
        "### The enumerate method for iterators (lists, tuples, sets, arrays, ....)"
      ],
      "metadata": {
        "id": "rnVUkUQgiXMk"
      }
    },
    {
      "cell_type": "code",
      "source": [
        "# Introducting the `range` function\n",
        "start = 0 # default\n",
        "stop = 10 # the only required argument\n",
        "step = 1 # default\n",
        "for i in range(start, stop, step):\n",
        "  print(i)"
      ],
      "metadata": {
        "colab": {
          "base_uri": "https://localhost:8080/"
        },
        "id": "BNTj6Z0EibHA",
        "outputId": "238a1e51-2105-4119-a8d6-190cfa3dd87f"
      },
      "execution_count": null,
      "outputs": [
        {
          "output_type": "stream",
          "name": "stdout",
          "text": [
            "0\n",
            "1\n",
            "2\n",
            "3\n",
            "4\n",
            "5\n",
            "6\n",
            "7\n",
            "8\n",
            "9\n"
          ]
        }
      ]
    },
    {
      "cell_type": "code",
      "source": [
        "for index, name in zip(range(len(firstnames)), firstnames):\n",
        "  print(\"Name #{} is {}\".format(index + 1, name))\n",
        "\n",
        "for index, name in enumerate(firstnames):\n",
        "  print(\"Name #{} is {}\".format(index + 1, name))\n",
        "\n",
        "for index, name in enumerate(firstnames, start = 2):\n",
        "  print(\"Name #{} is {}\".format(index + 1, name))"
      ],
      "metadata": {
        "colab": {
          "base_uri": "https://localhost:8080/"
        },
        "id": "L4YH_Uk9kRlA",
        "outputId": "ead34868-ca95-4e64-ac03-576b7cbdd28d"
      },
      "execution_count": null,
      "outputs": [
        {
          "output_type": "stream",
          "name": "stdout",
          "text": [
            "Name #1 is Ayub\n",
            "Name #2 is Bobby\n",
            "Name #3 is Alien\n",
            "Name #4 is Alien\n",
            "Name #5 is Gustavo\n",
            "Name #6 is Jason\n",
            "Name #7 is Chammaiyya\n",
            "Name #8 is Gustavo\n",
            "Name #9 is Jason\n",
            "Name #10 is Alexander\n",
            "Name #11 is Chammaiyya\n",
            "Name #1 is Ayub\n",
            "Name #2 is Bobby\n",
            "Name #3 is Alien\n",
            "Name #4 is Alien\n",
            "Name #5 is Gustavo\n",
            "Name #6 is Jason\n",
            "Name #7 is Chammaiyya\n",
            "Name #8 is Gustavo\n",
            "Name #9 is Jason\n",
            "Name #10 is Alexander\n",
            "Name #11 is Chammaiyya\n",
            "Name #3 is Ayub\n",
            "Name #4 is Bobby\n",
            "Name #5 is Alien\n",
            "Name #6 is Alien\n",
            "Name #7 is Gustavo\n",
            "Name #8 is Jason\n",
            "Name #9 is Chammaiyya\n",
            "Name #10 is Gustavo\n",
            "Name #11 is Jason\n",
            "Name #12 is Alexander\n",
            "Name #13 is Chammaiyya\n"
          ]
        }
      ]
    },
    {
      "cell_type": "markdown",
      "source": [
        "## Iterators in python\n",
        ">### HEY YOU! DON'T WATCH THAT, [WATCH THIS](https://youtu.be/C_rhipZonok?list=PL98qAXLA6afuh50qD2MdAj3ofYjZR_Phn)!"
      ],
      "metadata": {
        "id": "LeZ1QgY3-70R"
      }
    },
    {
      "cell_type": "markdown",
      "source": [
        "### Creating empty `list`, `tuple`, `set`"
      ],
      "metadata": {
        "id": "lFAkPF7Xmmni"
      }
    },
    {
      "cell_type": "code",
      "source": [
        "lst = []\n",
        "tpl = ()\n",
        "st = set() # not {} begays that will define an empty dictionary!"
      ],
      "metadata": {
        "id": "l0J9sX1ZmrBo"
      },
      "execution_count": null,
      "outputs": []
    },
    {
      "cell_type": "markdown",
      "source": [
        "# Next episode: dictionaries"
      ],
      "metadata": {
        "id": "CLqbEZ0am1au"
      }
    }
  ]
}