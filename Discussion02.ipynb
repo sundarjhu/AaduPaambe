{
  "nbformat": 4,
  "nbformat_minor": 0,
  "metadata": {
    "colab": {
      "name": "Copy of Untitled8.ipynb",
      "provenance": [],
      "collapsed_sections": [],
      "include_colab_link": true
    },
    "kernelspec": {
      "name": "python3",
      "display_name": "Python 3"
    },
    "language_info": {
      "name": "python"
    }
  },
  "cells": [
    {
      "cell_type": "markdown",
      "metadata": {
        "id": "view-in-github",
        "colab_type": "text"
      },
      "source": [
        "<a href=\"https://colab.research.google.com/github/sundarjhu/AaduPaambe/blob/main/Discussion02.ipynb\" target=\"_parent\"><img src=\"https://colab.research.google.com/assets/colab-badge.svg\" alt=\"Open In Colab\"/></a>"
      ]
    },
    {
      "cell_type": "markdown",
      "source": [
        "## For a very exhaustive beginner tutorial: [Corey Schafer](https://www.youtube.com/watch?v=YYXdXT2l-Gg&list=PL-osiE80TeTskrapNbzXhwoFUiLCjGgY7)"
      ],
      "metadata": {
        "id": "-67r1Z0Nx5p8"
      }
    },
    {
      "cell_type": "markdown",
      "source": [
        "# Lists"
      ],
      "metadata": {
        "id": "wiP099mON2TF"
      }
    },
    {
      "cell_type": "code",
      "source": [
        "firstnames = ['Alexander', 'Ayub', 'Bobby', 'Derick', 'Elias']\n",
        "lastnames = ['Menon', 'Sayyed', 'Namboodhiri', 'Menon', 'Reddy']\n",
        "\n",
        "for f in firstnames:\n",
        "  print(\"My first name is not {}\".format(f))\n",
        "\n",
        "for f, n in zip(firstnames, lastnames):\n",
        "  print(\"My full name is not {} {}\".format(f, n))"
      ],
      "metadata": {
        "id": "DfzwvKQEJi8o",
        "outputId": "235452bd-825a-47e0-c082-19542905cf25",
        "colab": {
          "base_uri": "https://localhost:8080/"
        }
      },
      "execution_count": 32,
      "outputs": [
        {
          "output_type": "stream",
          "name": "stdout",
          "text": [
            "My first name is not Alexander\n",
            "My first name is not Ayub\n",
            "My first name is not Bobby\n",
            "My first name is not Derick\n",
            "My first name is not Elias\n",
            "My full name is not Alexander Menon\n",
            "My full name is not Ayub Sayyed\n",
            "My full name is not Bobby Namboodhiri\n",
            "My full name is not Derick Menon\n",
            "My full name is not Elias Reddy\n"
          ]
        }
      ]
    },
    {
      "cell_type": "markdown",
      "source": [
        "## List comprehension"
      ],
      "metadata": {
        "id": "I3-nN1tk6Hl2"
      }
    },
    {
      "cell_type": "code",
      "source": [
        "fullnames = [f + ' ' + n for f, n in zip(firstnames, lastnames)]\n",
        "\n",
        "allcapslastnames = [l.upper() for l in lastnames] # l.lower() for lower case.\n",
        "print(allcapslastnames)"
      ],
      "metadata": {
        "id": "hjAWA1iE6I71",
        "outputId": "7c2ee48c-4ed7-4965-db97-13f5ca7e37ea",
        "colab": {
          "base_uri": "https://localhost:8080/"
        }
      },
      "execution_count": 53,
      "outputs": [
        {
          "output_type": "stream",
          "name": "stdout",
          "text": [
            "['MENON', 'SAYYED', 'NAMBOODHIRI', 'RATHOD', 'REDDY', 'PANDIYAN', 'PUNNOOSE', 'BOSE']\n"
          ]
        }
      ]
    },
    {
      "cell_type": "code",
      "source": [
        "dir(firstnames)"
      ],
      "metadata": {
        "id": "24Gpo8nV6OGh",
        "outputId": "29246d37-31ca-45a6-e2ae-3da0b5fb1b6c",
        "colab": {
          "base_uri": "https://localhost:8080/"
        }
      },
      "execution_count": 34,
      "outputs": [
        {
          "output_type": "execute_result",
          "data": {
            "text/plain": [
              "['__add__',\n",
              " '__class__',\n",
              " '__contains__',\n",
              " '__delattr__',\n",
              " '__delitem__',\n",
              " '__dir__',\n",
              " '__doc__',\n",
              " '__eq__',\n",
              " '__format__',\n",
              " '__ge__',\n",
              " '__getattribute__',\n",
              " '__getitem__',\n",
              " '__gt__',\n",
              " '__hash__',\n",
              " '__iadd__',\n",
              " '__imul__',\n",
              " '__init__',\n",
              " '__init_subclass__',\n",
              " '__iter__',\n",
              " '__le__',\n",
              " '__len__',\n",
              " '__lt__',\n",
              " '__mul__',\n",
              " '__ne__',\n",
              " '__new__',\n",
              " '__reduce__',\n",
              " '__reduce_ex__',\n",
              " '__repr__',\n",
              " '__reversed__',\n",
              " '__rmul__',\n",
              " '__setattr__',\n",
              " '__setitem__',\n",
              " '__sizeof__',\n",
              " '__str__',\n",
              " '__subclasshook__',\n",
              " 'append',\n",
              " 'clear',\n",
              " 'copy',\n",
              " 'count',\n",
              " 'extend',\n",
              " 'index',\n",
              " 'insert',\n",
              " 'pop',\n",
              " 'remove',\n",
              " 'reverse',\n",
              " 'sort']"
            ]
          },
          "metadata": {},
          "execution_count": 34
        }
      ]
    },
    {
      "cell_type": "code",
      "source": [
        "firstnames.__contains__('Ayub')"
      ],
      "metadata": {
        "id": "IlDI4p346csh",
        "outputId": "8d5c4b9e-4170-4df9-9a74-2cf5c793f291",
        "colab": {
          "base_uri": "https://localhost:8080/"
        }
      },
      "execution_count": 35,
      "outputs": [
        {
          "output_type": "execute_result",
          "data": {
            "text/plain": [
              "True"
            ]
          },
          "metadata": {},
          "execution_count": 35
        }
      ]
    },
    {
      "cell_type": "code",
      "source": [
        "firstnames.insert(3, 'Alien')\n",
        "lastnames.insert(3, 'Rathod')\n",
        "\n",
        "firstnames.pop(4)\n",
        "lastnames.pop(4)\n",
        "\n",
        "firstnames.append('Gustavo')\n",
        "lastnames.append('Pandiyan')\n",
        "\n",
        "firstnames_new = ['Jason', 'Alexander', 'Chammaiyya']\n",
        "lastnames_new = ['Gundappa', 'Punnoose', 'Bose']\n",
        "\n",
        "firstnames.extend(firstnames_new)\n",
        "lastnames.extend(lastnames_new)"
      ],
      "metadata": {
        "id": "ePklCYaV6pmd"
      },
      "execution_count": 36,
      "outputs": []
    },
    {
      "cell_type": "code",
      "source": [
        "print(firstnames)"
      ],
      "metadata": {
        "id": "n4xzl8rk7O7f",
        "outputId": "8ff06998-2d26-4308-bf06-94dbe3ab962a",
        "colab": {
          "base_uri": "https://localhost:8080/"
        }
      },
      "execution_count": 37,
      "outputs": [
        {
          "output_type": "stream",
          "name": "stdout",
          "text": [
            "['Alexander', 'Ayub', 'Bobby', 'Alien', 'Elias', 'Gustavo', 'Jason', 'Alexander', 'Chammaiyya']\n"
          ]
        }
      ]
    },
    {
      "cell_type": "code",
      "source": [
        "firstnames.count('Alexander')"
      ],
      "metadata": {
        "id": "oDuWqx5B7QFX",
        "outputId": "195ccad1-9a7b-46dd-9b41-da02dcea1051",
        "colab": {
          "base_uri": "https://localhost:8080/"
        }
      },
      "execution_count": 38,
      "outputs": [
        {
          "output_type": "execute_result",
          "data": {
            "text/plain": [
              "2"
            ]
          },
          "metadata": {},
          "execution_count": 38
        }
      ]
    },
    {
      "cell_type": "code",
      "source": [
        "idx = firstnames.index('Jason')\n",
        "_ = firstnames.pop(idx)\n",
        "_ = lastnames.pop(idx)"
      ],
      "metadata": {
        "id": "BVOl8Cn670YB"
      },
      "execution_count": 39,
      "outputs": []
    },
    {
      "cell_type": "code",
      "source": [
        "LastNames = lastnames.copy()\n",
        "LastNames.sort()\n",
        "print(LastNames)\n",
        "\n",
        "LastNames.reverse()\n",
        "print(LastNames)"
      ],
      "metadata": {
        "id": "qYHAYJx-9yIw",
        "outputId": "4e241ab7-735e-47b7-de77-ff340bb4feef",
        "colab": {
          "base_uri": "https://localhost:8080/"
        }
      },
      "execution_count": 42,
      "outputs": [
        {
          "output_type": "stream",
          "name": "stdout",
          "text": [
            "['Bose', 'Menon', 'Namboodhiri', 'Pandiyan', 'Punnoose', 'Rathod', 'Reddy', 'Sayyed']\n",
            "['Sayyed', 'Reddy', 'Rathod', 'Punnoose', 'Pandiyan', 'Namboodhiri', 'Menon', 'Bose']\n"
          ]
        }
      ]
    },
    {
      "cell_type": "markdown",
      "source": [
        "## Indexing and slicing"
      ],
      "metadata": {
        "id": "kU6uKdlm_Akt"
      }
    },
    {
      "cell_type": "code",
      "source": [
        "print(\"The list has {} names\".format(len(firstnames)))\n",
        "\n",
        "# This will print elements with indices starting at 3 up to BUT EXCLUDING 7\n",
        "print(\"A slice from this list: {}\".format(firstnames[3:7]))\n",
        "\n",
        "# This will print elements in steps of 3\n",
        "print(\"Every third name in the list: {}\".format(firstnames[::3]))\n",
        "\n",
        "# This will reverse the list in place\n",
        "print(\"List in reverse order: {}\".format(firstnames[::-1]))\n"
      ],
      "metadata": {
        "id": "f5y_-N8b_Eeu",
        "outputId": "844e8e18-7670-41d7-868c-0c4e5310c45d",
        "colab": {
          "base_uri": "https://localhost:8080/"
        }
      },
      "execution_count": 51,
      "outputs": [
        {
          "output_type": "stream",
          "name": "stdout",
          "text": [
            "The list has 8 names\n",
            "A slice from this list: ['Alien', 'Elias', 'Gustavo', 'Alexander']\n",
            "Every third name in the list: ['Alexander', 'Alien', 'Alexander']\n",
            "List in reverse order: ['Chammaiyya', 'Alexander', 'Gustavo', 'Elias', 'Alien', 'Bobby', 'Ayub', 'Alexander']\n"
          ]
        }
      ]
    },
    {
      "cell_type": "markdown",
      "source": [
        "## Iterators in python\n",
        ">### HEY YOU! DON'T WATCH THAT, [WATCH THIS](https://youtu.be/C_rhipZonok?list=PL98qAXLA6afuh50qD2MdAj3ofYjZR_Phn)!"
      ],
      "metadata": {
        "id": "LeZ1QgY3-70R"
      }
    }
  ]
}